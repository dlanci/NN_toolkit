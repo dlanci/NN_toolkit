{
 "cells": [
  {
   "cell_type": "code",
   "execution_count": 1,
   "metadata": {},
   "outputs": [],
   "source": [
    "import scipy as sp\n",
    "import numpy as np\n",
    "import os \n",
    "import pickle\n",
    "\n",
    "import tensorflow as tf\n",
    "import matplotlib.pyplot as plt\n",
    "from datetime import datetime\n",
    "\n",
    "from architectures.cycleGAN import *"
   ]
  },
  {
   "cell_type": "code",
   "execution_count": 2,
   "metadata": {},
   "outputs": [
    {
     "data": {
      "text/plain": [
       "'1.4.1'"
      ]
     },
     "execution_count": 2,
     "metadata": {},
     "output_type": "execute_result"
    }
   ],
   "source": [
    "import tensorflow as tf\n",
    "tf.__version__"
   ]
  },
  {
   "cell_type": "code",
   "execution_count": 3,
   "metadata": {},
   "outputs": [],
   "source": [
    "# some constants\n",
    "\n",
    "LEARNING_RATE_D = 0.0001\n",
    "LEARNING_RATE_G = 0.0001\n",
    "BETA1 = 0.5\n",
    "BATCH_SIZE = 1\n",
    "EPOCHS = 1\n",
    "SAVE_SAMPLE_PERIOD = 1\n",
    "task='TRAIN'\n",
    "#task='TEST'\n",
    "SEED=1\n",
    "\n",
    "PATH = 'cycleGAN_test'"
   ]
  },
  {
   "cell_type": "code",
   "execution_count": 4,
   "metadata": {},
   "outputs": [],
   "source": [
    "trunc_normal= tf.truncated_normal_initializer(stddev=0.02)\n",
    "normal = tf.random_normal_initializer(stddev=0.02)\n",
    "\n",
    "uniform = tf.random_uniform_initializer()\n",
    "glorot_uniform = tf.glorot_uniform_initializer()\n",
    "glorot_normal = tf.glorot_normal_initializer()\n",
    "\n",
    "global d_sizes, g_sizes\n",
    "\n",
    "d_sizes_A = {\n",
    "         'conv_layers': [(2, 6, 2, False, 1, lrelu, trunc_normal),\n",
    "                         (32, 6, 2, False, 1, lrelu, trunc_normal)],\n",
    "         'dense_layers': [(512, True, 1, lrelu ,normal)],\n",
    "         'readout_layer_w_init':normal,\n",
    "}\n",
    "\n",
    "d_sizes_B = {\n",
    "         'conv_layers': [(2, 6, 2, False, 1, lrelu, trunc_normal),\n",
    "                         (32, 6, 2, False, 1, lrelu, trunc_normal)],\n",
    "         'dense_layers': [(512, True, 1, lrelu ,normal)],\n",
    "         'readout_layer_w_init':normal,\n",
    "}\n",
    "\n",
    "g_sizes_A={\n",
    "         'conv_layer_0':[(4, 8, 2, False, 1, tf.nn.relu, normal)],\n",
    "         'conv_layer_1':[(8, 8, 2, False, 1, tf.nn.relu, normal)],\n",
    "         'convblock_layer_0':[(16, 4, 2, True, 1, tf.nn.relu, normal),\n",
    "                                (16, 4, 1, False, 1, tf.nn.relu, normal),\n",
    "                                (16, 4, 2, True, 1, tf.nn.relu, normal)],\n",
    "         'convblock_shortcut_layer_0':[(16, 1, 4, False, 1, normal)],\n",
    "         'deconv_layer_0':[(8, 8, 2, False, 1, tf.nn.relu, normal)],\n",
    "         'deconv_layer_1':[(3, 8, 2, False, 1, tf.nn.relu, normal)],\n",
    "         \n",
    "        \n",
    "         \n",
    "}\n",
    "\n",
    "g_sizes_B={\n",
    "         'conv_layer_0':[(4, 8, 2, False, 1, tf.nn.relu, normal)],\n",
    "         'conv_layer_1':[(8, 8, 2, False, 1, tf.nn.relu, normal)],\n",
    "         'convblock_layer_0':[(16, 4, 2, True, 1, tf.nn.relu, normal),\n",
    "                                (16, 4, 1, False, 1, tf.nn.relu, normal),\n",
    "                                (16, 4, 2, True, 1, tf.nn.relu, normal)],\n",
    "         'convblock_shortcut_layer_0':[(16, 1, 4, False, 1, normal)],\n",
    "         'deconv_layer_0':[(8, 8, 2, False, 1, tf.nn.relu, normal)],\n",
    "         'deconv_layer_1':[(3, 8, 2, False, 1, tf.nn.relu, normal)],\n",
    "        \n",
    "         \n",
    "}\n",
    "\n"
   ]
  },
  {
   "cell_type": "code",
   "execution_count": 7,
   "metadata": {},
   "outputs": [],
   "source": [
    "def Horse2Zebra():\n",
    "    \n",
    "    train_A = np.array(\n",
    "    [plt.imread(\"horse2zebra/trainA/\"+filename) for filename in os.listdir(\"horse2zebra/trainA\")]\n",
    "    )\n",
    "    \n",
    "    train_B = np.array(\n",
    "    [plt.imread(\"./horse2zebra/trainB/\"+filename) for filename in os.listdir(\"./horse2zebra/trainB\")]\n",
    "    )\n",
    "    \n",
    "    m = np.minimum(train_A.shape[0],train_B.shape[0])\n",
    "    \n",
    "    _, n_H, n_W, n_C = train_A.shape\n",
    "    \n",
    "    X_train_A = train_A[0:m]\n",
    "    X_train_B = train_B[0:m]\n",
    "    \n",
    "    train_A=train_A.astype(np.float64)\n",
    "    mean_A=np.mean(train_A,axis=0)\n",
    "    train_A-=mean_A\n",
    "    std_A=np.std(train_A,axis=0)\n",
    "    train_A/=std_A\n",
    "    \n",
    "    train_B=train_B.astype(np.float64)\n",
    "    mean_B=np.mean(train_B,axis=0)\n",
    "    train_B-=mean_B\n",
    "    std_B=np.std(train_B,axis=0)\n",
    "    train_B/=std_B\n",
    "    \n",
    "    tf.reset_default_graph()\n",
    "\n",
    "    gan = cycleGAN(n_H, n_W, n_C, mean_A, std_A, mean_B, std_B, d_sizes_A, d_sizes_B, g_sizes_A, g_sizes_B,\n",
    "                   lr_g=LEARNING_RATE_G, lr_d=LEARNING_RATE_D,beta1=BETA1,\n",
    "                  batch_size=BATCH_SIZE, epochs=EPOCHS,\n",
    "                  save_sample=SAVE_SAMPLE_PERIOD, path=PATH, seed=SEED)\n",
    "    \n",
    "    vars_to_train= tf.trainable_variables()\n",
    "    \n",
    "    if task == 'TRAIN':\n",
    "        init_op = tf.global_variables_initializer()\n",
    "        \n",
    "    if task == 'TEST':\n",
    "        vars_all = tf.global_variables()\n",
    "        vars_to_init = list(set(vars_all)-set(vars_to_train))\n",
    "        init_op = tf.variables_initializer(vars_to_init)\n",
    "        \n",
    "    # Add ops to save and restore all the variables.\n",
    "    saver = tf.train.Saver()    \n",
    "        \n",
    "    with tf.Session() as sess:\n",
    "        \n",
    "        sess.run(init_op)\n",
    "\n",
    "        if task=='TRAIN':\n",
    "            print('\\n Training...')\n",
    "            \n",
    "            if os.path.exists(PATH+'/'+PATH+'.ckpt.index'):\n",
    "                saver.restore(sess,PATH+'/'+PATH+'.ckpt')\n",
    "                print('Model restored.')\n",
    "            \n",
    "            gan.set_session(sess)\n",
    "            gan.fit(X_train_A, X_train_B)\n",
    "            \n",
    "            save_path = saver.save(sess, PATH+'/'+PATH+'.ckpt')\n",
    "            print(\"Model saved in path: %s\" % save_path)\n",
    "        \n",
    "        if task=='TEST':\n",
    "            print('\\n Evaluate model on test set...')\n",
    "            saver.restore(sess,PATH+'/'+PATH+'.ckpt')\n",
    "            print('Model restored.')\n",
    "            \n",
    "            gan.set_session(sess) \n",
    "            \n",
    "        done = True\n",
    "        while not done:\n",
    "            \n",
    "            \n",
    "            j = np.random.choice(len(X_train_A))\n",
    "            true_img = X_train_A[j]\n",
    "            sample_img = gan.get_sample(true_img)\n",
    "            \n",
    "            plt.subplot(1,2,1)\n",
    "            plt.imshow(true_img.reshape(n_H,n_W),cmap='gray')\n",
    "            plt.subplot(1,2,2)\n",
    "            plt.imshow(sample_img.reshape(n_H,n_W),cmap='gray')\n",
    "            \n",
    "            fig=plt.gcf()\n",
    "            fig.set_size_inches(5,8)\n",
    "            plt.savefig(PATH+'/sample_{0}_at_iter_{1}.png'.format(j, total_iters),dpi=300)\n",
    "            \n",
    "            ans = input(\"Generate another?\")\n",
    "            if ans and ans[0] in ('n' or 'N'):\n",
    "                done = True"
   ]
  },
  {
   "cell_type": "code",
   "execution_count": null,
   "metadata": {},
   "outputs": [
    {
     "name": "stdout",
     "output_type": "stream",
     "text": [
      "Convolutional Network architecture detected\n",
      "Convolutional Network architecture detected\n",
      "Discriminator_A\n",
      "Convolution\n",
      "Input for convolution shape  (?, 256, 256, 3)\n",
      "(131072, 512)\n",
      "Logits shape (?, 1)\n",
      "Generator_A_to_B\n",
      "Input for deconvolution shape (?, 256, 256, 3)\n",
      "Deconvoluted output shape (?, 256, 256, 3)\n",
      "Discriminator_B\n",
      "Convolution\n",
      "Input for convolution shape  (?, 256, 256, 3)\n",
      "(131072, 512)\n",
      "Logits shape (?, 1)\n",
      "Generator_B_to_A\n",
      "Input for deconvolution shape (?, 256, 256, 3)\n",
      "Deconvoluted output shape (?, 256, 256, 3)\n",
      "Discriminator_A\n",
      "Convolution\n",
      "Input for convolution shape  (?, 256, 256, 3)\n",
      "(131072, 512)\n",
      "Logits shape (?, 1)\n",
      "Discriminator_B\n",
      "Convolution\n",
      "Input for convolution shape  (?, 256, 256, 3)\n",
      "(131072, 512)\n",
      "Logits shape (?, 1)\n",
      "Generator_A_to_B\n",
      "Input for deconvolution shape (?, 256, 256, 3)\n",
      "Deconvoluted output shape (?, 256, 256, 3)\n",
      "Generator_B_to_A\n",
      "Input for deconvolution shape (?, 256, 256, 3)\n",
      "Deconvoluted output shape (?, 256, 256, 3)\n",
      "Generator_A_to_B\n",
      "Input for deconvolution shape (?, 256, 256, 3)\n",
      "Deconvoluted output shape (?, 256, 256, 3)\n",
      "Generator_B_to_A\n",
      "Input for deconvolution shape (?, 256, 256, 3)\n",
      "Deconvoluted output shape (?, 256, 256, 3)\n",
      "\n",
      " Training...\n",
      "\n",
      " ****** \n",
      "\n",
      "Training cycle GAN with a total of 1067 samples distributed in batches of size 1\n",
      "\n",
      "The learning rate set for the generator is 0.0001 while for the discriminator is 0.0001, and every 1 epoch a generated sample will be saved to cycleGAN_test\n",
      "\n",
      " ****** \n",
      "\n",
      "Epoch: 0\n"
     ]
    },
    {
     "name": "stderr",
     "output_type": "stream",
     "text": [
      "Clipping input data to the valid range for imshow with RGB data ([0..1] for floats or [0..255] for integers).\n",
      "Clipping input data to the valid range for imshow with RGB data ([0..1] for floats or [0..255] for integers).\n"
     ]
    },
    {
     "name": "stdout",
     "output_type": "stream",
     "text": [
      "At iter: 1  -  dt: 0:00:02.029730 - d_acc_A: 0.50\n",
      "At iter: 1  -  dt: 0:00:02.029841 - d_acc_B: 1.00\n",
      "Discrimator_A cost 1.3863494396209717, Generator_A_to_B cost 794.7616577148438\n",
      "Discrimator_B cost 1.386290431022644, Generator_B_to_A cost 794.7606201171875\n",
      "Saving a sample...\n"
     ]
    },
    {
     "name": "stderr",
     "output_type": "stream",
     "text": [
      "/home/ttp/davide/miniconda3/envs/deepnet/lib/python3.6/site-packages/matplotlib/cbook/deprecation.py:107: MatplotlibDeprecationWarning: Adding an axes using the same arguments as a previous axes currently reuses the earlier instance.  In a future version, a new instance will always be created and returned.  Meanwhile, this warning can be suppressed, and the future behavior ensured, by passing a unique label to each axes instance.\n",
      "  warnings.warn(message, mplDeprecation, stacklevel=1)\n",
      "Clipping input data to the valid range for imshow with RGB data ([0..1] for floats or [0..255] for integers).\n",
      "Clipping input data to the valid range for imshow with RGB data ([0..1] for floats or [0..255] for integers).\n"
     ]
    },
    {
     "name": "stdout",
     "output_type": "stream",
     "text": [
      "At iter: 2  -  dt: 0:00:00.197692 - d_acc_A: 0.50\n",
      "At iter: 2  -  dt: 0:00:00.197783 - d_acc_B: 0.50\n",
      "Discrimator_A cost 1.3863246440887451, Generator_A_to_B cost 1392.963134765625\n",
      "Discrimator_B cost 1.3863071203231812, Generator_B_to_A cost 1392.9620361328125\n",
      "Saving a sample...\n"
     ]
    },
    {
     "name": "stderr",
     "output_type": "stream",
     "text": [
      "Clipping input data to the valid range for imshow with RGB data ([0..1] for floats or [0..255] for integers).\n",
      "Clipping input data to the valid range for imshow with RGB data ([0..1] for floats or [0..255] for integers).\n"
     ]
    },
    {
     "name": "stdout",
     "output_type": "stream",
     "text": [
      "At iter: 3  -  dt: 0:00:00.197816 - d_acc_A: 1.00\n",
      "At iter: 3  -  dt: 0:00:00.197908 - d_acc_B: 0.50\n",
      "Discrimator_A cost 1.3862539529800415, Generator_A_to_B cost 987.66357421875\n",
      "Discrimator_B cost 1.3862876892089844, Generator_B_to_A cost 987.662353515625\n",
      "Saving a sample...\n"
     ]
    },
    {
     "name": "stderr",
     "output_type": "stream",
     "text": [
      "Clipping input data to the valid range for imshow with RGB data ([0..1] for floats or [0..255] for integers).\n",
      "Clipping input data to the valid range for imshow with RGB data ([0..1] for floats or [0..255] for integers).\n"
     ]
    },
    {
     "name": "stdout",
     "output_type": "stream",
     "text": [
      "At iter: 4  -  dt: 0:00:00.198046 - d_acc_A: 0.50\n",
      "At iter: 4  -  dt: 0:00:00.198141 - d_acc_B: 0.00\n",
      "Discrimator_A cost 1.3862357139587402, Generator_A_to_B cost 1176.0738525390625\n",
      "Discrimator_B cost 1.3863096237182617, Generator_B_to_A cost 1176.07275390625\n",
      "Saving a sample...\n"
     ]
    },
    {
     "name": "stderr",
     "output_type": "stream",
     "text": [
      "Clipping input data to the valid range for imshow with RGB data ([0..1] for floats or [0..255] for integers).\n"
     ]
    },
    {
     "name": "stdout",
     "output_type": "stream",
     "text": [
      "At iter: 5  -  dt: 0:00:00.197850 - d_acc_A: 0.50\n",
      "At iter: 5  -  dt: 0:00:00.197951 - d_acc_B: 0.50\n",
      "Discrimator_A cost 1.3863321542739868, Generator_A_to_B cost 1412.971435546875\n",
      "Discrimator_B cost 1.3862988948822021, Generator_B_to_A cost 1412.97021484375\n",
      "Saving a sample...\n"
     ]
    },
    {
     "name": "stderr",
     "output_type": "stream",
     "text": [
      "Clipping input data to the valid range for imshow with RGB data ([0..1] for floats or [0..255] for integers).\n",
      "Clipping input data to the valid range for imshow with RGB data ([0..1] for floats or [0..255] for integers).\n"
     ]
    },
    {
     "name": "stdout",
     "output_type": "stream",
     "text": [
      "At iter: 6  -  dt: 0:00:00.200629 - d_acc_A: 0.50\n",
      "At iter: 6  -  dt: 0:00:00.200743 - d_acc_B: 1.00\n",
      "Discrimator_A cost 1.3862569332122803, Generator_A_to_B cost 1334.8697509765625\n",
      "Discrimator_B cost 1.3862797021865845, Generator_B_to_A cost 1334.868408203125\n",
      "Saving a sample...\n"
     ]
    },
    {
     "name": "stderr",
     "output_type": "stream",
     "text": [
      "Clipping input data to the valid range for imshow with RGB data ([0..1] for floats or [0..255] for integers).\n"
     ]
    },
    {
     "name": "stdout",
     "output_type": "stream",
     "text": [
      "At iter: 7  -  dt: 0:00:00.197986 - d_acc_A: 1.00\n",
      "At iter: 7  -  dt: 0:00:00.198085 - d_acc_B: 0.50\n",
      "Discrimator_A cost 1.386205792427063, Generator_A_to_B cost 1154.67724609375\n",
      "Discrimator_B cost 1.386296033859253, Generator_B_to_A cost 1154.6751708984375\n",
      "Saving a sample...\n"
     ]
    },
    {
     "name": "stderr",
     "output_type": "stream",
     "text": [
      "Clipping input data to the valid range for imshow with RGB data ([0..1] for floats or [0..255] for integers).\n",
      "Clipping input data to the valid range for imshow with RGB data ([0..1] for floats or [0..255] for integers).\n"
     ]
    },
    {
     "name": "stdout",
     "output_type": "stream",
     "text": [
      "At iter: 8  -  dt: 0:00:00.199150 - d_acc_A: 0.50\n",
      "At iter: 8  -  dt: 0:00:00.199246 - d_acc_B: 0.50\n",
      "Discrimator_A cost 1.3862820863723755, Generator_A_to_B cost 1122.6629638671875\n",
      "Discrimator_B cost 1.3862855434417725, Generator_B_to_A cost 1122.6591796875\n",
      "Saving a sample...\n"
     ]
    },
    {
     "name": "stderr",
     "output_type": "stream",
     "text": [
      "Clipping input data to the valid range for imshow with RGB data ([0..1] for floats or [0..255] for integers).\n",
      "Clipping input data to the valid range for imshow with RGB data ([0..1] for floats or [0..255] for integers).\n"
     ]
    },
    {
     "name": "stdout",
     "output_type": "stream",
     "text": [
      "At iter: 9  -  dt: 0:00:00.202072 - d_acc_A: 0.50\n",
      "At iter: 9  -  dt: 0:00:00.202301 - d_acc_B: 1.00\n",
      "Discrimator_A cost 1.3862707614898682, Generator_A_to_B cost 1248.740966796875\n",
      "Discrimator_B cost 1.3862903118133545, Generator_B_to_A cost 1248.733642578125\n",
      "Saving a sample...\n"
     ]
    },
    {
     "name": "stderr",
     "output_type": "stream",
     "text": [
      "Clipping input data to the valid range for imshow with RGB data ([0..1] for floats or [0..255] for integers).\n",
      "Clipping input data to the valid range for imshow with RGB data ([0..1] for floats or [0..255] for integers).\n"
     ]
    },
    {
     "name": "stdout",
     "output_type": "stream",
     "text": [
      "At iter: 10  -  dt: 0:00:00.205138 - d_acc_A: 1.00\n",
      "At iter: 10  -  dt: 0:00:00.205235 - d_acc_B: 1.00\n",
      "Discrimator_A cost 1.3862239122390747, Generator_A_to_B cost 1262.97705078125\n",
      "Discrimator_B cost 1.3862838745117188, Generator_B_to_A cost 1262.962890625\n",
      "Saving a sample...\n"
     ]
    },
    {
     "name": "stderr",
     "output_type": "stream",
     "text": [
      "Clipping input data to the valid range for imshow with RGB data ([0..1] for floats or [0..255] for integers).\n",
      "Clipping input data to the valid range for imshow with RGB data ([0..1] for floats or [0..255] for integers).\n"
     ]
    },
    {
     "name": "stdout",
     "output_type": "stream",
     "text": [
      "At iter: 11  -  dt: 0:00:00.198714 - d_acc_A: 0.50\n",
      "At iter: 11  -  dt: 0:00:00.199454 - d_acc_B: 0.50\n",
      "Discrimator_A cost 1.3863160610198975, Generator_A_to_B cost 1584.9654541015625\n",
      "Discrimator_B cost 1.386301040649414, Generator_B_to_A cost 1584.943359375\n",
      "Saving a sample...\n"
     ]
    },
    {
     "name": "stderr",
     "output_type": "stream",
     "text": [
      "Clipping input data to the valid range for imshow with RGB data ([0..1] for floats or [0..255] for integers).\n",
      "Clipping input data to the valid range for imshow with RGB data ([0..1] for floats or [0..255] for integers).\n"
     ]
    },
    {
     "name": "stdout",
     "output_type": "stream",
     "text": [
      "At iter: 12  -  dt: 0:00:00.201309 - d_acc_A: 0.50\n",
      "At iter: 12  -  dt: 0:00:00.201435 - d_acc_B: 0.50\n",
      "Discrimator_A cost 1.3863310813903809, Generator_A_to_B cost 1012.9476318359375\n",
      "Discrimator_B cost 1.3862931728363037, Generator_B_to_A cost 1012.9132080078125\n",
      "Saving a sample...\n"
     ]
    },
    {
     "name": "stderr",
     "output_type": "stream",
     "text": [
      "Clipping input data to the valid range for imshow with RGB data ([0..1] for floats or [0..255] for integers).\n",
      "Clipping input data to the valid range for imshow with RGB data ([0..1] for floats or [0..255] for integers).\n"
     ]
    },
    {
     "name": "stdout",
     "output_type": "stream",
     "text": [
      "At iter: 13  -  dt: 0:00:00.200348 - d_acc_A: 0.50\n",
      "At iter: 13  -  dt: 0:00:00.200745 - d_acc_B: 0.50\n",
      "Discrimator_A cost 1.386228322982788, Generator_A_to_B cost 1126.6788330078125\n",
      "Discrimator_B cost 1.3862935304641724, Generator_B_to_A cost 1126.6273193359375\n",
      "Saving a sample...\n"
     ]
    },
    {
     "name": "stderr",
     "output_type": "stream",
     "text": [
      "Clipping input data to the valid range for imshow with RGB data ([0..1] for floats or [0..255] for integers).\n",
      "Clipping input data to the valid range for imshow with RGB data ([0..1] for floats or [0..255] for integers).\n"
     ]
    },
    {
     "name": "stdout",
     "output_type": "stream",
     "text": [
      "At iter: 14  -  dt: 0:00:00.198430 - d_acc_A: 0.50\n",
      "At iter: 14  -  dt: 0:00:00.198554 - d_acc_B: 0.50\n",
      "Discrimator_A cost 1.386225700378418, Generator_A_to_B cost 1089.183349609375\n",
      "Discrimator_B cost 1.386295199394226, Generator_B_to_A cost 1089.1156005859375\n",
      "Saving a sample...\n"
     ]
    },
    {
     "name": "stderr",
     "output_type": "stream",
     "text": [
      "Clipping input data to the valid range for imshow with RGB data ([0..1] for floats or [0..255] for integers).\n",
      "Clipping input data to the valid range for imshow with RGB data ([0..1] for floats or [0..255] for integers).\n"
     ]
    },
    {
     "name": "stdout",
     "output_type": "stream",
     "text": [
      "At iter: 15  -  dt: 0:00:00.197732 - d_acc_A: 1.00\n",
      "At iter: 15  -  dt: 0:00:00.197822 - d_acc_B: 0.50\n",
      "Discrimator_A cost 1.3861989974975586, Generator_A_to_B cost 1133.6298828125\n",
      "Discrimator_B cost 1.3862745761871338, Generator_B_to_A cost 1133.5205078125\n",
      "Saving a sample...\n"
     ]
    },
    {
     "name": "stderr",
     "output_type": "stream",
     "text": [
      "Clipping input data to the valid range for imshow with RGB data ([0..1] for floats or [0..255] for integers).\n",
      "Clipping input data to the valid range for imshow with RGB data ([0..1] for floats or [0..255] for integers).\n"
     ]
    },
    {
     "name": "stdout",
     "output_type": "stream",
     "text": [
      "At iter: 16  -  dt: 0:00:00.198000 - d_acc_A: 1.00\n",
      "At iter: 16  -  dt: 0:00:00.198191 - d_acc_B: 0.50\n",
      "Discrimator_A cost 1.3862216472625732, Generator_A_to_B cost 1147.23388671875\n",
      "Discrimator_B cost 1.3863036632537842, Generator_B_to_A cost 1147.072998046875\n",
      "Saving a sample...\n"
     ]
    },
    {
     "name": "stderr",
     "output_type": "stream",
     "text": [
      "Clipping input data to the valid range for imshow with RGB data ([0..1] for floats or [0..255] for integers).\n",
      "Clipping input data to the valid range for imshow with RGB data ([0..1] for floats or [0..255] for integers).\n"
     ]
    },
    {
     "name": "stdout",
     "output_type": "stream",
     "text": [
      "At iter: 17  -  dt: 0:00:00.198557 - d_acc_A: 1.00\n",
      "At iter: 17  -  dt: 0:00:00.198648 - d_acc_B: 0.50\n",
      "Discrimator_A cost 1.3862241506576538, Generator_A_to_B cost 1110.9637451171875\n",
      "Discrimator_B cost 1.3863022327423096, Generator_B_to_A cost 1110.72900390625\n",
      "Saving a sample...\n"
     ]
    },
    {
     "name": "stderr",
     "output_type": "stream",
     "text": [
      "Clipping input data to the valid range for imshow with RGB data ([0..1] for floats or [0..255] for integers).\n"
     ]
    },
    {
     "name": "stdout",
     "output_type": "stream",
     "text": [
      "At iter: 18  -  dt: 0:00:00.198741 - d_acc_A: 1.00\n",
      "At iter: 18  -  dt: 0:00:00.198853 - d_acc_B: 0.50\n",
      "Discrimator_A cost 1.3861896991729736, Generator_A_to_B cost 1091.4234619140625\n",
      "Discrimator_B cost 1.3862979412078857, Generator_B_to_A cost 1091.107666015625\n",
      "Saving a sample...\n"
     ]
    },
    {
     "name": "stderr",
     "output_type": "stream",
     "text": [
      "Clipping input data to the valid range for imshow with RGB data ([0..1] for floats or [0..255] for integers).\n",
      "Clipping input data to the valid range for imshow with RGB data ([0..1] for floats or [0..255] for integers).\n"
     ]
    },
    {
     "name": "stdout",
     "output_type": "stream",
     "text": [
      "At iter: 19  -  dt: 0:00:00.197618 - d_acc_A: 0.50\n",
      "At iter: 19  -  dt: 0:00:00.197708 - d_acc_B: 1.00\n",
      "Discrimator_A cost 1.3862743377685547, Generator_A_to_B cost 1057.595703125\n",
      "Discrimator_B cost 1.3862850666046143, Generator_B_to_A cost 1057.1240234375\n",
      "Saving a sample...\n"
     ]
    },
    {
     "name": "stderr",
     "output_type": "stream",
     "text": [
      "Clipping input data to the valid range for imshow with RGB data ([0..1] for floats or [0..255] for integers).\n",
      "Clipping input data to the valid range for imshow with RGB data ([0..1] for floats or [0..255] for integers).\n"
     ]
    },
    {
     "name": "stdout",
     "output_type": "stream",
     "text": [
      "At iter: 20  -  dt: 0:00:00.199723 - d_acc_A: 1.00\n",
      "At iter: 20  -  dt: 0:00:00.200243 - d_acc_B: 0.50\n",
      "Discrimator_A cost 1.3862011432647705, Generator_A_to_B cost 990.2264404296875\n",
      "Discrimator_B cost 1.3862946033477783, Generator_B_to_A cost 989.5985107421875\n",
      "Saving a sample...\n"
     ]
    },
    {
     "name": "stderr",
     "output_type": "stream",
     "text": [
      "Clipping input data to the valid range for imshow with RGB data ([0..1] for floats or [0..255] for integers).\n",
      "Clipping input data to the valid range for imshow with RGB data ([0..1] for floats or [0..255] for integers).\n"
     ]
    },
    {
     "name": "stdout",
     "output_type": "stream",
     "text": [
      "At iter: 21  -  dt: 0:00:00.199168 - d_acc_A: 0.50\n",
      "At iter: 21  -  dt: 0:00:00.199262 - d_acc_B: 0.50\n",
      "Discrimator_A cost 1.3862965106964111, Generator_A_to_B cost 1268.476318359375\n",
      "Discrimator_B cost 1.3862888813018799, Generator_B_to_A cost 1267.4627685546875\n",
      "Saving a sample...\n"
     ]
    },
    {
     "name": "stderr",
     "output_type": "stream",
     "text": [
      "Clipping input data to the valid range for imshow with RGB data ([0..1] for floats or [0..255] for integers).\n",
      "Clipping input data to the valid range for imshow with RGB data ([0..1] for floats or [0..255] for integers).\n"
     ]
    },
    {
     "name": "stdout",
     "output_type": "stream",
     "text": [
      "At iter: 22  -  dt: 0:00:00.198980 - d_acc_A: 1.00\n",
      "At iter: 22  -  dt: 0:00:00.199074 - d_acc_B: 1.00\n",
      "Discrimator_A cost 1.3862519264221191, Generator_A_to_B cost 1254.00244140625\n",
      "Discrimator_B cost 1.3862812519073486, Generator_B_to_A cost 1251.595703125\n",
      "Saving a sample...\n"
     ]
    },
    {
     "name": "stderr",
     "output_type": "stream",
     "text": [
      "Clipping input data to the valid range for imshow with RGB data ([0..1] for floats or [0..255] for integers).\n"
     ]
    },
    {
     "name": "stdout",
     "output_type": "stream",
     "text": [
      "At iter: 23  -  dt: 0:00:00.197484 - d_acc_A: 0.50\n",
      "At iter: 23  -  dt: 0:00:00.197662 - d_acc_B: 0.50\n",
      "Discrimator_A cost 1.3863036632537842, Generator_A_to_B cost 1197.4361572265625\n",
      "Discrimator_B cost 1.3862860202789307, Generator_B_to_A cost 1189.7239990234375\n",
      "Saving a sample...\n"
     ]
    },
    {
     "name": "stderr",
     "output_type": "stream",
     "text": [
      "Clipping input data to the valid range for imshow with RGB data ([0..1] for floats or [0..255] for integers).\n"
     ]
    },
    {
     "name": "stdout",
     "output_type": "stream",
     "text": [
      "At iter: 24  -  dt: 0:00:00.199052 - d_acc_A: 0.50\n",
      "At iter: 24  -  dt: 0:00:00.199148 - d_acc_B: 0.00\n",
      "Discrimator_A cost 1.3862706422805786, Generator_A_to_B cost 1308.3115234375\n",
      "Discrimator_B cost 1.3863002061843872, Generator_B_to_A cost 1281.072998046875\n",
      "Saving a sample...\n"
     ]
    },
    {
     "name": "stderr",
     "output_type": "stream",
     "text": [
      "Clipping input data to the valid range for imshow with RGB data ([0..1] for floats or [0..255] for integers).\n"
     ]
    },
    {
     "name": "stdout",
     "output_type": "stream",
     "text": [
      "At iter: 25  -  dt: 0:00:00.199908 - d_acc_A: 1.00\n",
      "At iter: 25  -  dt: 0:00:00.200104 - d_acc_B: 0.50\n",
      "Discrimator_A cost 1.3862855434417725, Generator_A_to_B cost 1326.2039794921875\n",
      "Discrimator_B cost 1.386291265487671, Generator_B_to_A cost 1224.503173828125\n",
      "Saving a sample...\n"
     ]
    },
    {
     "name": "stderr",
     "output_type": "stream",
     "text": [
      "Clipping input data to the valid range for imshow with RGB data ([0..1] for floats or [0..255] for integers).\n"
     ]
    },
    {
     "name": "stdout",
     "output_type": "stream",
     "text": [
      "At iter: 26  -  dt: 0:00:00.198956 - d_acc_A: 0.50\n",
      "At iter: 26  -  dt: 0:00:00.199050 - d_acc_B: 0.50\n",
      "Discrimator_A cost 1.386231780052185, Generator_A_to_B cost 792.467041015625\n",
      "Discrimator_B cost 1.3863000869750977, Generator_B_to_A cost 633.2833251953125\n",
      "Saving a sample...\n"
     ]
    },
    {
     "name": "stderr",
     "output_type": "stream",
     "text": [
      "Clipping input data to the valid range for imshow with RGB data ([0..1] for floats or [0..255] for integers).\n"
     ]
    },
    {
     "name": "stdout",
     "output_type": "stream",
     "text": [
      "At iter: 27  -  dt: 0:00:00.198402 - d_acc_A: 0.50\n",
      "At iter: 27  -  dt: 0:00:00.198496 - d_acc_B: 0.50\n",
      "Discrimator_A cost 1.3862988948822021, Generator_A_to_B cost 442.219970703125\n",
      "Discrimator_B cost 1.3863223791122437, Generator_B_to_A cost 444.59759521484375\n",
      "Saving a sample...\n"
     ]
    },
    {
     "name": "stderr",
     "output_type": "stream",
     "text": [
      "Clipping input data to the valid range for imshow with RGB data ([0..1] for floats or [0..255] for integers).\n"
     ]
    },
    {
     "name": "stdout",
     "output_type": "stream",
     "text": [
      "At iter: 28  -  dt: 0:00:00.198676 - d_acc_A: 0.00\n",
      "At iter: 28  -  dt: 0:00:00.199073 - d_acc_B: 0.50\n",
      "Discrimator_A cost 1.3863306045532227, Generator_A_to_B cost 436.11968994140625\n",
      "Discrimator_B cost 1.386306643486023, Generator_B_to_A cost 429.7647705078125\n",
      "Saving a sample...\n"
     ]
    },
    {
     "name": "stderr",
     "output_type": "stream",
     "text": [
      "Clipping input data to the valid range for imshow with RGB data ([0..1] for floats or [0..255] for integers).\n"
     ]
    },
    {
     "name": "stdout",
     "output_type": "stream",
     "text": [
      "At iter: 29  -  dt: 0:00:00.197828 - d_acc_A: 0.50\n",
      "At iter: 29  -  dt: 0:00:00.198121 - d_acc_B: 0.00\n",
      "Discrimator_A cost 1.3863447904586792, Generator_A_to_B cost 608.685546875\n",
      "Discrimator_B cost 1.3863227367401123, Generator_B_to_A cost 598.9058837890625\n",
      "Saving a sample...\n"
     ]
    },
    {
     "name": "stderr",
     "output_type": "stream",
     "text": [
      "Clipping input data to the valid range for imshow with RGB data ([0..1] for floats or [0..255] for integers).\n"
     ]
    },
    {
     "name": "stdout",
     "output_type": "stream",
     "text": [
      "At iter: 30  -  dt: 0:00:00.198749 - d_acc_A: 0.50\n",
      "At iter: 30  -  dt: 0:00:00.199076 - d_acc_B: 0.00\n",
      "Discrimator_A cost 1.3862948417663574, Generator_A_to_B cost 650.2305297851562\n",
      "Discrimator_B cost 1.3863108158111572, Generator_B_to_A cost 647.3639526367188\n",
      "Saving a sample...\n"
     ]
    },
    {
     "name": "stderr",
     "output_type": "stream",
     "text": [
      "Clipping input data to the valid range for imshow with RGB data ([0..1] for floats or [0..255] for integers).\n"
     ]
    },
    {
     "name": "stdout",
     "output_type": "stream",
     "text": [
      "At iter: 31  -  dt: 0:00:00.197555 - d_acc_A: 0.50\n",
      "At iter: 31  -  dt: 0:00:00.197833 - d_acc_B: 0.50\n",
      "Discrimator_A cost 1.3863420486450195, Generator_A_to_B cost 640.8121337890625\n",
      "Discrimator_B cost 1.386291742324829, Generator_B_to_A cost 639.6026611328125\n",
      "Saving a sample...\n"
     ]
    },
    {
     "name": "stderr",
     "output_type": "stream",
     "text": [
      "Clipping input data to the valid range for imshow with RGB data ([0..1] for floats or [0..255] for integers).\n"
     ]
    },
    {
     "name": "stdout",
     "output_type": "stream",
     "text": [
      "At iter: 32  -  dt: 0:00:00.196694 - d_acc_A: 0.50\n",
      "At iter: 32  -  dt: 0:00:00.196885 - d_acc_B: 0.00\n",
      "Discrimator_A cost 1.386293649673462, Generator_A_to_B cost 406.49884033203125\n",
      "Discrimator_B cost 1.3862987756729126, Generator_B_to_A cost 401.7872009277344\n",
      "Saving a sample...\n"
     ]
    },
    {
     "name": "stderr",
     "output_type": "stream",
     "text": [
      "Clipping input data to the valid range for imshow with RGB data ([0..1] for floats or [0..255] for integers).\n"
     ]
    },
    {
     "name": "stdout",
     "output_type": "stream",
     "text": [
      "At iter: 33  -  dt: 0:00:00.196917 - d_acc_A: 0.00\n",
      "At iter: 33  -  dt: 0:00:00.197175 - d_acc_B: 0.50\n",
      "Discrimator_A cost 1.3863520622253418, Generator_A_to_B cost 468.56591796875\n",
      "Discrimator_B cost 1.386293649673462, Generator_B_to_A cost 466.26947021484375\n",
      "Saving a sample...\n"
     ]
    },
    {
     "name": "stderr",
     "output_type": "stream",
     "text": [
      "Clipping input data to the valid range for imshow with RGB data ([0..1] for floats or [0..255] for integers).\n"
     ]
    },
    {
     "name": "stdout",
     "output_type": "stream",
     "text": [
      "At iter: 34  -  dt: 0:00:00.199262 - d_acc_A: 0.00\n",
      "At iter: 34  -  dt: 0:00:00.199538 - d_acc_B: 1.00\n",
      "Discrimator_A cost 1.3863312005996704, Generator_A_to_B cost 578.122802734375\n",
      "Discrimator_B cost 1.3862717151641846, Generator_B_to_A cost 572.89404296875\n",
      "Saving a sample...\n"
     ]
    },
    {
     "name": "stderr",
     "output_type": "stream",
     "text": [
      "Clipping input data to the valid range for imshow with RGB data ([0..1] for floats or [0..255] for integers).\n"
     ]
    },
    {
     "name": "stdout",
     "output_type": "stream",
     "text": [
      "At iter: 35  -  dt: 0:00:00.198033 - d_acc_A: 0.50\n",
      "At iter: 35  -  dt: 0:00:00.198136 - d_acc_B: 0.50\n",
      "Discrimator_A cost 1.386286973953247, Generator_A_to_B cost 551.0172119140625\n",
      "Discrimator_B cost 1.3862831592559814, Generator_B_to_A cost 542.988037109375\n",
      "Saving a sample...\n"
     ]
    },
    {
     "name": "stderr",
     "output_type": "stream",
     "text": [
      "Clipping input data to the valid range for imshow with RGB data ([0..1] for floats or [0..255] for integers).\n"
     ]
    },
    {
     "name": "stdout",
     "output_type": "stream",
     "text": [
      "At iter: 36  -  dt: 0:00:00.197893 - d_acc_A: 1.00\n",
      "At iter: 36  -  dt: 0:00:00.198152 - d_acc_B: 1.00\n",
      "Discrimator_A cost 1.3862717151641846, Generator_A_to_B cost 700.603759765625\n",
      "Discrimator_B cost 1.3862628936767578, Generator_B_to_A cost 695.55615234375\n",
      "Saving a sample...\n"
     ]
    },
    {
     "name": "stderr",
     "output_type": "stream",
     "text": [
      "Clipping input data to the valid range for imshow with RGB data ([0..1] for floats or [0..255] for integers).\n"
     ]
    },
    {
     "name": "stdout",
     "output_type": "stream",
     "text": [
      "At iter: 37  -  dt: 0:00:00.198368 - d_acc_A: 0.50\n",
      "At iter: 37  -  dt: 0:00:00.198687 - d_acc_B: 0.50\n",
      "Discrimator_A cost 1.3863105773925781, Generator_A_to_B cost 621.9887084960938\n",
      "Discrimator_B cost 1.3863074779510498, Generator_B_to_A cost 618.697509765625\n",
      "Saving a sample...\n"
     ]
    },
    {
     "name": "stderr",
     "output_type": "stream",
     "text": [
      "Clipping input data to the valid range for imshow with RGB data ([0..1] for floats or [0..255] for integers).\n"
     ]
    },
    {
     "name": "stdout",
     "output_type": "stream",
     "text": [
      "At iter: 38  -  dt: 0:00:00.197190 - d_acc_A: 0.00\n",
      "At iter: 38  -  dt: 0:00:00.197376 - d_acc_B: 0.50\n",
      "Discrimator_A cost 1.3863484859466553, Generator_A_to_B cost 626.0016479492188\n",
      "Discrimator_B cost 1.3862876892089844, Generator_B_to_A cost 624.6014404296875\n",
      "Saving a sample...\n"
     ]
    },
    {
     "name": "stderr",
     "output_type": "stream",
     "text": [
      "Clipping input data to the valid range for imshow with RGB data ([0..1] for floats or [0..255] for integers).\n"
     ]
    },
    {
     "name": "stdout",
     "output_type": "stream",
     "text": [
      "At iter: 39  -  dt: 0:00:00.197840 - d_acc_A: 0.50\n",
      "At iter: 39  -  dt: 0:00:00.198121 - d_acc_B: 0.50\n",
      "Discrimator_A cost 1.3862837553024292, Generator_A_to_B cost 483.3197326660156\n",
      "Discrimator_B cost 1.38627290725708, Generator_B_to_A cost 480.38360595703125\n",
      "Saving a sample...\n"
     ]
    },
    {
     "name": "stderr",
     "output_type": "stream",
     "text": [
      "Clipping input data to the valid range for imshow with RGB data ([0..1] for floats or [0..255] for integers).\n"
     ]
    },
    {
     "name": "stdout",
     "output_type": "stream",
     "text": [
      "At iter: 40  -  dt: 0:00:00.198030 - d_acc_A: 0.50\n",
      "At iter: 40  -  dt: 0:00:00.198581 - d_acc_B: 0.50\n",
      "Discrimator_A cost 1.3862793445587158, Generator_A_to_B cost 466.5399169921875\n",
      "Discrimator_B cost 1.3863005638122559, Generator_B_to_A cost 462.79583740234375\n",
      "Saving a sample...\n"
     ]
    },
    {
     "name": "stderr",
     "output_type": "stream",
     "text": [
      "Clipping input data to the valid range for imshow with RGB data ([0..1] for floats or [0..255] for integers).\n"
     ]
    },
    {
     "name": "stdout",
     "output_type": "stream",
     "text": [
      "At iter: 41  -  dt: 0:00:00.198942 - d_acc_A: 1.00\n",
      "At iter: 41  -  dt: 0:00:00.199043 - d_acc_B: 0.50\n",
      "Discrimator_A cost 1.3862590789794922, Generator_A_to_B cost 520.3582763671875\n",
      "Discrimator_B cost 1.3862768411636353, Generator_B_to_A cost 516.9117431640625\n",
      "Saving a sample...\n"
     ]
    },
    {
     "name": "stderr",
     "output_type": "stream",
     "text": [
      "Clipping input data to the valid range for imshow with RGB data ([0..1] for floats or [0..255] for integers).\n"
     ]
    },
    {
     "name": "stdout",
     "output_type": "stream",
     "text": [
      "At iter: 42  -  dt: 0:00:00.196413 - d_acc_A: 0.50\n",
      "At iter: 42  -  dt: 0:00:00.196605 - d_acc_B: 0.50\n",
      "Discrimator_A cost 1.3864001035690308, Generator_A_to_B cost 586.589111328125\n",
      "Discrimator_B cost 1.3862544298171997, Generator_B_to_A cost 579.5406494140625\n",
      "Saving a sample...\n"
     ]
    },
    {
     "name": "stderr",
     "output_type": "stream",
     "text": [
      "Clipping input data to the valid range for imshow with RGB data ([0..1] for floats or [0..255] for integers).\n"
     ]
    },
    {
     "name": "stdout",
     "output_type": "stream",
     "text": [
      "At iter: 43  -  dt: 0:00:00.198080 - d_acc_A: 1.00\n",
      "At iter: 43  -  dt: 0:00:00.198248 - d_acc_B: 0.50\n",
      "Discrimator_A cost 1.3862320184707642, Generator_A_to_B cost 522.74267578125\n",
      "Discrimator_B cost 1.3862905502319336, Generator_B_to_A cost 519.06396484375\n",
      "Saving a sample...\n"
     ]
    },
    {
     "name": "stderr",
     "output_type": "stream",
     "text": [
      "Clipping input data to the valid range for imshow with RGB data ([0..1] for floats or [0..255] for integers).\n"
     ]
    },
    {
     "name": "stdout",
     "output_type": "stream",
     "text": [
      "At iter: 44  -  dt: 0:00:00.197620 - d_acc_A: 0.50\n",
      "At iter: 44  -  dt: 0:00:00.197741 - d_acc_B: 0.50\n",
      "Discrimator_A cost 1.3863611221313477, Generator_A_to_B cost 512.8820190429688\n",
      "Discrimator_B cost 1.3863105773925781, Generator_B_to_A cost 504.1940612792969\n",
      "Saving a sample...\n"
     ]
    },
    {
     "name": "stderr",
     "output_type": "stream",
     "text": [
      "Clipping input data to the valid range for imshow with RGB data ([0..1] for floats or [0..255] for integers).\n"
     ]
    },
    {
     "name": "stdout",
     "output_type": "stream",
     "text": [
      "At iter: 45  -  dt: 0:00:00.197610 - d_acc_A: 0.00\n",
      "At iter: 45  -  dt: 0:00:00.197697 - d_acc_B: 0.50\n",
      "Discrimator_A cost 1.386497974395752, Generator_A_to_B cost 543.7199096679688\n",
      "Discrimator_B cost 1.3863054513931274, Generator_B_to_A cost 541.8021850585938\n",
      "Saving a sample...\n",
      "At iter: 46  -  dt: 0:00:00.199115 - d_acc_A: 0.00\n",
      "At iter: 46  -  dt: 0:00:00.199670 - d_acc_B: 0.50\n",
      "Discrimator_A cost 1.386336088180542, Generator_A_to_B cost 514.29296875\n",
      "Discrimator_B cost 1.38630211353302, Generator_B_to_A cost 509.7760925292969\n",
      "Saving a sample...\n"
     ]
    },
    {
     "name": "stderr",
     "output_type": "stream",
     "text": [
      "Clipping input data to the valid range for imshow with RGB data ([0..1] for floats or [0..255] for integers).\n"
     ]
    },
    {
     "name": "stdout",
     "output_type": "stream",
     "text": [
      "At iter: 47  -  dt: 0:00:00.199918 - d_acc_A: 0.50\n",
      "At iter: 47  -  dt: 0:00:00.200016 - d_acc_B: 0.50\n",
      "Discrimator_A cost 1.386265754699707, Generator_A_to_B cost 538.8638916015625\n",
      "Discrimator_B cost 1.3862929344177246, Generator_B_to_A cost 536.92041015625\n",
      "Saving a sample...\n"
     ]
    },
    {
     "name": "stderr",
     "output_type": "stream",
     "text": [
      "Clipping input data to the valid range for imshow with RGB data ([0..1] for floats or [0..255] for integers).\n"
     ]
    },
    {
     "name": "stdout",
     "output_type": "stream",
     "text": [
      "At iter: 48  -  dt: 0:00:00.198207 - d_acc_A: 0.50\n",
      "At iter: 48  -  dt: 0:00:00.198364 - d_acc_B: 0.50\n",
      "Discrimator_A cost 1.386357307434082, Generator_A_to_B cost 637.325439453125\n",
      "Discrimator_B cost 1.3862848281860352, Generator_B_to_A cost 618.531005859375\n",
      "Saving a sample...\n",
      "At iter: 49  -  dt: 0:00:00.199499 - d_acc_A: 0.00\n",
      "At iter: 49  -  dt: 0:00:00.199600 - d_acc_B: 0.50\n",
      "Discrimator_A cost 1.3864682912826538, Generator_A_to_B cost 674.145751953125\n",
      "Discrimator_B cost 1.3862823247909546, Generator_B_to_A cost 670.983154296875\n",
      "Saving a sample...\n",
      "At iter: 50  -  dt: 0:00:00.196670 - d_acc_A: 0.50\n",
      "At iter: 50  -  dt: 0:00:00.196861 - d_acc_B: 1.00\n",
      "Discrimator_A cost 1.3862929344177246, Generator_A_to_B cost 490.6228942871094\n",
      "Discrimator_B cost 1.3862807750701904, Generator_B_to_A cost 486.7963562011719\n",
      "Saving a sample...\n"
     ]
    },
    {
     "name": "stderr",
     "output_type": "stream",
     "text": [
      "Clipping input data to the valid range for imshow with RGB data ([0..1] for floats or [0..255] for integers).\n"
     ]
    },
    {
     "name": "stdout",
     "output_type": "stream",
     "text": [
      "At iter: 51  -  dt: 0:00:00.199378 - d_acc_A: 0.00\n",
      "At iter: 51  -  dt: 0:00:00.199475 - d_acc_B: 1.00\n",
      "Discrimator_A cost 1.386451244354248, Generator_A_to_B cost 566.92919921875\n",
      "Discrimator_B cost 1.386284351348877, Generator_B_to_A cost 561.728759765625\n",
      "Saving a sample...\n"
     ]
    },
    {
     "name": "stderr",
     "output_type": "stream",
     "text": [
      "Clipping input data to the valid range for imshow with RGB data ([0..1] for floats or [0..255] for integers).\n"
     ]
    },
    {
     "name": "stdout",
     "output_type": "stream",
     "text": [
      "At iter: 52  -  dt: 0:00:00.198125 - d_acc_A: 0.50\n",
      "At iter: 52  -  dt: 0:00:00.198293 - d_acc_B: 0.00\n",
      "Discrimator_A cost 1.3863033056259155, Generator_A_to_B cost 480.335205078125\n",
      "Discrimator_B cost 1.3862981796264648, Generator_B_to_A cost 478.13037109375\n",
      "Saving a sample...\n"
     ]
    },
    {
     "name": "stderr",
     "output_type": "stream",
     "text": [
      "Clipping input data to the valid range for imshow with RGB data ([0..1] for floats or [0..255] for integers).\n"
     ]
    },
    {
     "name": "stdout",
     "output_type": "stream",
     "text": [
      "At iter: 53  -  dt: 0:00:00.198258 - d_acc_A: 0.00\n",
      "At iter: 53  -  dt: 0:00:00.198530 - d_acc_B: 0.00\n",
      "Discrimator_A cost 1.3864058256149292, Generator_A_to_B cost 631.3138427734375\n",
      "Discrimator_B cost 1.3863025903701782, Generator_B_to_A cost 625.909423828125\n",
      "Saving a sample...\n"
     ]
    },
    {
     "name": "stderr",
     "output_type": "stream",
     "text": [
      "Clipping input data to the valid range for imshow with RGB data ([0..1] for floats or [0..255] for integers).\n"
     ]
    },
    {
     "name": "stdout",
     "output_type": "stream",
     "text": [
      "At iter: 54  -  dt: 0:00:00.198857 - d_acc_A: 0.50\n",
      "At iter: 54  -  dt: 0:00:00.199116 - d_acc_B: 0.00\n",
      "Discrimator_A cost 1.3863582611083984, Generator_A_to_B cost 576.7207641601562\n",
      "Discrimator_B cost 1.3863009214401245, Generator_B_to_A cost 574.3609619140625\n",
      "Saving a sample...\n"
     ]
    },
    {
     "name": "stderr",
     "output_type": "stream",
     "text": [
      "Clipping input data to the valid range for imshow with RGB data ([0..1] for floats or [0..255] for integers).\n"
     ]
    },
    {
     "name": "stdout",
     "output_type": "stream",
     "text": [
      "At iter: 55  -  dt: 0:00:00.198594 - d_acc_A: 1.00\n",
      "At iter: 55  -  dt: 0:00:00.198869 - d_acc_B: 0.50\n",
      "Discrimator_A cost 1.3862801790237427, Generator_A_to_B cost 579.132568359375\n",
      "Discrimator_B cost 1.3862807750701904, Generator_B_to_A cost 575.1395263671875\n",
      "Saving a sample...\n"
     ]
    },
    {
     "name": "stderr",
     "output_type": "stream",
     "text": [
      "Clipping input data to the valid range for imshow with RGB data ([0..1] for floats or [0..255] for integers).\n"
     ]
    },
    {
     "name": "stdout",
     "output_type": "stream",
     "text": [
      "At iter: 56  -  dt: 0:00:00.198887 - d_acc_A: 0.50\n",
      "At iter: 56  -  dt: 0:00:00.199075 - d_acc_B: 0.50\n",
      "Discrimator_A cost 1.3863877058029175, Generator_A_to_B cost 401.936279296875\n",
      "Discrimator_B cost 1.3863093852996826, Generator_B_to_A cost 400.1925048828125\n",
      "Saving a sample...\n"
     ]
    },
    {
     "name": "stderr",
     "output_type": "stream",
     "text": [
      "Clipping input data to the valid range for imshow with RGB data ([0..1] for floats or [0..255] for integers).\n"
     ]
    },
    {
     "name": "stdout",
     "output_type": "stream",
     "text": [
      "At iter: 57  -  dt: 0:00:00.199255 - d_acc_A: 0.50\n",
      "At iter: 57  -  dt: 0:00:00.199375 - d_acc_B: 0.50\n",
      "Discrimator_A cost 1.3862965106964111, Generator_A_to_B cost 543.197998046875\n",
      "Discrimator_B cost 1.3862800598144531, Generator_B_to_A cost 538.0419921875\n",
      "Saving a sample...\n"
     ]
    },
    {
     "name": "stderr",
     "output_type": "stream",
     "text": [
      "Clipping input data to the valid range for imshow with RGB data ([0..1] for floats or [0..255] for integers).\n"
     ]
    },
    {
     "name": "stdout",
     "output_type": "stream",
     "text": [
      "At iter: 58  -  dt: 0:00:00.197795 - d_acc_A: 0.50\n",
      "At iter: 58  -  dt: 0:00:00.198337 - d_acc_B: 0.50\n",
      "Discrimator_A cost 1.3862695693969727, Generator_A_to_B cost 527.789306640625\n",
      "Discrimator_B cost 1.386289119720459, Generator_B_to_A cost 522.855712890625\n",
      "Saving a sample...\n"
     ]
    },
    {
     "name": "stderr",
     "output_type": "stream",
     "text": [
      "Clipping input data to the valid range for imshow with RGB data ([0..1] for floats or [0..255] for integers).\n"
     ]
    },
    {
     "name": "stdout",
     "output_type": "stream",
     "text": [
      "At iter: 59  -  dt: 0:00:00.198512 - d_acc_A: 0.50\n",
      "At iter: 59  -  dt: 0:00:00.198612 - d_acc_B: 0.50\n",
      "Discrimator_A cost 1.3862922191619873, Generator_A_to_B cost 502.73968505859375\n",
      "Discrimator_B cost 1.3862991333007812, Generator_B_to_A cost 495.4493103027344\n",
      "Saving a sample...\n"
     ]
    },
    {
     "name": "stderr",
     "output_type": "stream",
     "text": [
      "Clipping input data to the valid range for imshow with RGB data ([0..1] for floats or [0..255] for integers).\n"
     ]
    },
    {
     "name": "stdout",
     "output_type": "stream",
     "text": [
      "At iter: 60  -  dt: 0:00:00.197390 - d_acc_A: 0.00\n",
      "At iter: 60  -  dt: 0:00:00.197561 - d_acc_B: 0.50\n",
      "Discrimator_A cost 1.386307954788208, Generator_A_to_B cost 546.004638671875\n",
      "Discrimator_B cost 1.3863033056259155, Generator_B_to_A cost 529.303466796875\n",
      "Saving a sample...\n"
     ]
    },
    {
     "name": "stderr",
     "output_type": "stream",
     "text": [
      "Clipping input data to the valid range for imshow with RGB data ([0..1] for floats or [0..255] for integers).\n"
     ]
    },
    {
     "name": "stdout",
     "output_type": "stream",
     "text": [
      "At iter: 61  -  dt: 0:00:00.198713 - d_acc_A: 0.50\n",
      "At iter: 61  -  dt: 0:00:00.198987 - d_acc_B: 0.00\n",
      "Discrimator_A cost 1.3862602710723877, Generator_A_to_B cost 614.5388793945312\n",
      "Discrimator_B cost 1.3863024711608887, Generator_B_to_A cost 610.985595703125\n",
      "Saving a sample...\n",
      "At iter: 62  -  dt: 0:00:00.196898 - d_acc_A: 0.00\n",
      "At iter: 62  -  dt: 0:00:00.197297 - d_acc_B: 0.50\n",
      "Discrimator_A cost 1.3863329887390137, Generator_A_to_B cost 507.0635681152344\n",
      "Discrimator_B cost 1.3862900733947754, Generator_B_to_A cost 500.66778564453125\n",
      "Saving a sample...\n",
      "At iter: 63  -  dt: 0:00:00.197617 - d_acc_A: 0.50\n",
      "At iter: 63  -  dt: 0:00:00.197785 - d_acc_B: 1.00\n",
      "Discrimator_A cost 1.3863054513931274, Generator_A_to_B cost 461.4444274902344\n",
      "Discrimator_B cost 1.3862907886505127, Generator_B_to_A cost 458.74652099609375\n",
      "Saving a sample...\n"
     ]
    },
    {
     "name": "stderr",
     "output_type": "stream",
     "text": [
      "Clipping input data to the valid range for imshow with RGB data ([0..1] for floats or [0..255] for integers).\n"
     ]
    },
    {
     "name": "stdout",
     "output_type": "stream",
     "text": [
      "At iter: 64  -  dt: 0:00:00.199087 - d_acc_A: 0.00\n",
      "At iter: 64  -  dt: 0:00:00.199439 - d_acc_B: 0.50\n",
      "Discrimator_A cost 1.386406421661377, Generator_A_to_B cost 468.39666748046875\n",
      "Discrimator_B cost 1.386303424835205, Generator_B_to_A cost 464.81744384765625\n",
      "Saving a sample...\n",
      "At iter: 65  -  dt: 0:00:00.198398 - d_acc_A: 0.50\n",
      "At iter: 65  -  dt: 0:00:00.198566 - d_acc_B: 0.50\n",
      "Discrimator_A cost 1.386242389678955, Generator_A_to_B cost 416.0606689453125\n",
      "Discrimator_B cost 1.3862943649291992, Generator_B_to_A cost 413.01934814453125\n",
      "Saving a sample...\n"
     ]
    },
    {
     "name": "stderr",
     "output_type": "stream",
     "text": [
      "Clipping input data to the valid range for imshow with RGB data ([0..1] for floats or [0..255] for integers).\n"
     ]
    },
    {
     "name": "stdout",
     "output_type": "stream",
     "text": [
      "At iter: 66  -  dt: 0:00:00.200919 - d_acc_A: 0.00\n",
      "At iter: 66  -  dt: 0:00:00.201268 - d_acc_B: 0.00\n",
      "Discrimator_A cost 1.3863657712936401, Generator_A_to_B cost 412.4808349609375\n",
      "Discrimator_B cost 1.3862991333007812, Generator_B_to_A cost 408.4246826171875\n",
      "Saving a sample...\n"
     ]
    },
    {
     "name": "stderr",
     "output_type": "stream",
     "text": [
      "Clipping input data to the valid range for imshow with RGB data ([0..1] for floats or [0..255] for integers).\n"
     ]
    },
    {
     "name": "stdout",
     "output_type": "stream",
     "text": [
      "At iter: 67  -  dt: 0:00:00.197134 - d_acc_A: 1.00\n",
      "At iter: 67  -  dt: 0:00:00.197238 - d_acc_B: 1.00\n",
      "Discrimator_A cost 1.3861783742904663, Generator_A_to_B cost 451.36395263671875\n",
      "Discrimator_B cost 1.3862829208374023, Generator_B_to_A cost 445.90716552734375\n",
      "Saving a sample...\n"
     ]
    },
    {
     "name": "stderr",
     "output_type": "stream",
     "text": [
      "Clipping input data to the valid range for imshow with RGB data ([0..1] for floats or [0..255] for integers).\n"
     ]
    },
    {
     "name": "stdout",
     "output_type": "stream",
     "text": [
      "At iter: 68  -  dt: 0:00:00.197231 - d_acc_A: 1.00\n",
      "At iter: 68  -  dt: 0:00:00.197400 - d_acc_B: 0.50\n",
      "Discrimator_A cost 1.386244773864746, Generator_A_to_B cost 431.9482421875\n",
      "Discrimator_B cost 1.38631010055542, Generator_B_to_A cost 428.59930419921875\n",
      "Saving a sample...\n"
     ]
    }
   ],
   "source": [
    "if __name__=='__main__':\n",
    "\n",
    "    if task == 'TRAIN':\n",
    "        if not os.path.exists(PATH):\n",
    "            os.mkdir(PATH)\n",
    "    \n",
    "        elif os.path.exists(PATH):\n",
    "            if os.path.exists(PATH+'/checkpoint'):\n",
    "                ans = input('A previous checkpoint already exists, choose the action to perform \\n \\n 1) Overwrite the current model saved at '+PATH+'/checkpoint \\n 2) Start training a new model \\n 3) Restore and continue training the previous model \\n ')\n",
    "                \n",
    "                if ans == '1':\n",
    "                    print('Overwriting existing model in '+PATH)\n",
    "                    for file in os.listdir(PATH):\n",
    "                        file_path = os.path.join(PATH, file)\n",
    "                        try:\n",
    "                            if os.path.isfile(file_path):\n",
    "                                os.unlink(file_path)\n",
    "                            #elif os.path.isdir(file_path): shutil.rmtree(file_path)\n",
    "                        except Exception as e:\n",
    "                            print(e)\n",
    "                            \n",
    "                elif ans == '2':\n",
    "                    PATH = input('Specify the name of the model, a new directory will be created.\\n')\n",
    "                    os.mkdir(PATH)    \n",
    "        \n",
    "        Horse2Zebra()\n",
    "   \n",
    "    elif task == 'TEST': \n",
    "        if not os.path.exists(PATH+'/checkpoint'):\n",
    "            print('No checkpoint to test')\n",
    "        else:\n",
    "            Horse2Zebra()"
   ]
  },
  {
   "cell_type": "code",
   "execution_count": null,
   "metadata": {},
   "outputs": [],
   "source": [
    "train_A = np.array(\n",
    "    [plt.imread(\"horse2zebra/trainA/\"+filename) for filename in os.listdir(\"horse2zebra/trainA\")]\n",
    "    )"
   ]
  },
  {
   "cell_type": "code",
   "execution_count": null,
   "metadata": {},
   "outputs": [],
   "source": []
  },
  {
   "cell_type": "code",
   "execution_count": null,
   "metadata": {},
   "outputs": [],
   "source": []
  },
  {
   "cell_type": "code",
   "execution_count": null,
   "metadata": {},
   "outputs": [],
   "source": []
  },
  {
   "cell_type": "code",
   "execution_count": null,
   "metadata": {},
   "outputs": [],
   "source": [
    "train_A.mean()"
   ]
  },
  {
   "cell_type": "code",
   "execution_count": null,
   "metadata": {},
   "outputs": [],
   "source": [
    "train_A.std()"
   ]
  },
  {
   "cell_type": "code",
   "execution_count": null,
   "metadata": {},
   "outputs": [],
   "source": []
  }
 ],
 "metadata": {
  "kernelspec": {
   "display_name": "Python 3",
   "language": "python",
   "name": "python3"
  },
  "language_info": {
   "codemirror_mode": {
    "name": "ipython",
    "version": 3
   },
   "file_extension": ".py",
   "mimetype": "text/x-python",
   "name": "python",
   "nbconvert_exporter": "python",
   "pygments_lexer": "ipython3",
   "version": "3.6.5"
  }
 },
 "nbformat": 4,
 "nbformat_minor": 2
}
