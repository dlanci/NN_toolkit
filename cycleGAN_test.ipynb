{
 "cells": [
  {
   "cell_type": "code",
   "execution_count": 1,
   "metadata": {},
   "outputs": [],
   "source": [
    "import scipy as sp\n",
    "import numpy as np\n",
    "import os \n",
    "import pickle\n",
    "\n",
    "import tensorflow as tf\n",
    "import matplotlib.pyplot as plt\n",
    "from datetime import datetime\n",
    "\n",
    "from architectures.cycleGAN import *"
   ]
  },
  {
   "cell_type": "code",
   "execution_count": 2,
   "metadata": {},
   "outputs": [
    {
     "data": {
      "text/plain": [
       "'1.3.0'"
      ]
     },
     "execution_count": 2,
     "metadata": {},
     "output_type": "execute_result"
    }
   ],
   "source": [
    "import tensorflow as tf\n",
    "tf.__version__"
   ]
  },
  {
   "cell_type": "code",
   "execution_count": 3,
   "metadata": {},
   "outputs": [],
   "source": [
    "def insert(X_inner, X_outer):\n",
    "    X=X_outer\n",
    "    \n",
    "    for i in range(26,78):\n",
    "        for j in range(32,96):\n",
    "            X[i,j]=X_inner[i-26,j-36]\n",
    "    \n",
    "    return X"
   ]
  },
  {
   "cell_type": "code",
   "execution_count": 4,
   "metadata": {},
   "outputs": [],
   "source": [
    "# some constants\n",
    "\n",
    "LEARNING_RATE_D = 0.0001\n",
    "LEARNING_RATE_G = 0.0001\n",
    "BETA1 = 0.5\n",
    "BATCH_SIZE = 128\n",
    "EPOCHS = 5\n",
    "SAVE_SAMPLE_PERIOD = 100\n",
    "task='TRAIN'\n",
    "#task='TEST'\n",
    "\n",
    "PATH = 'cycleGAN_test'"
   ]
  },
  {
   "cell_type": "code",
   "execution_count": 5,
   "metadata": {},
   "outputs": [],
   "source": [
    "trunc_normal= tf.truncated_normal_initializer(stddev=0.02)\n",
    "normal = tf.random_normal_initializer(stddev=0.02)\n",
    "\n",
    "uniform = tf.random_uniform_initializer()\n",
    "glorot_uniform = tf.glorot_uniform_initializer()\n",
    "glorot_normal = tf.glorot_normal_initializer()\n",
    "\n",
    "global d_sizes, g_sizes\n",
    "\n",
    "d_sizes_A = {\n",
    "         'conv_layers': [(2, 6, 2, False, 1, lrelu, trunc_normal),\n",
    "                         (64, 6, 2, True, 1, lrelu, trunc_normal)],\n",
    "         'dense_layers': [(1024, True, 1, lrelu ,normal)],\n",
    "         'readout_layer_w_init':normal,\n",
    "}\n",
    "\n",
    "d_sizes_B = {\n",
    "         'conv_layers': [(2, 6, 2, False, 1, lrelu, trunc_normal),\n",
    "                         (64, 6, 2, True, 1, lrelu, trunc_normal)],\n",
    "         'dense_layers': [(1024, True, 1, lrelu ,normal)],\n",
    "         'readout_layer_w_init':normal,\n",
    "}\n",
    "\n",
    "g_sizes_A={\n",
    "         'conv_layer_0':[(4, 8, 2, False, 1, tf.nn.relu, normal)],\n",
    "         'conv_layer_1':[(8, 8, 2, False, 1, tf.nn.relu, normal)],\n",
    "         'convblock_layer_0':[(16, 4, 2, True, 1, tf.nn.relu, normal),\n",
    "                                (16, 4, 1, False, 1, tf.nn.relu, normal),\n",
    "                                (16, 4, 2, True, 1, tf.nn.relu, normal)],\n",
    "         'convblock_shortcut_layer_0':[(16, 1, 4, False, 1, normal)],\n",
    "         'deconv_layer_0':[(8, 8, 2, False, 1, tf.nn.relu, normal)],\n",
    "         'deconv_layer_1':[(1, 8, 2, False, 1, tf.nn.relu, normal)],\n",
    "         \n",
    "        \n",
    "         \n",
    "}\n",
    "\n",
    "g_sizes_B={\n",
    "         'conv_layer_0':[(4, 8, 2, False, 1, tf.nn.relu, normal)],\n",
    "         'conv_layer_1':[(8, 8, 2, False, 1, tf.nn.relu, normal)],\n",
    "         'convblock_layer_0':[(16, 4, 2, True, 1, tf.nn.relu, normal),\n",
    "                                (16, 4, 1, False, 1, tf.nn.relu, normal),\n",
    "                                (16, 4, 2, True, 1, tf.nn.relu, normal)],\n",
    "         'convblock_shortcut_layer_0':[(16, 1, 4, False, 1, normal)],\n",
    "         'deconv_layer_0':[(8, 8, 2, False, 1, tf.nn.relu, normal)],\n",
    "         'deconv_layer_1':[(1, 8, 2, False, 1, tf.nn.relu, normal)],\n",
    "        \n",
    "         \n",
    "}\n",
    "\n"
   ]
  },
  {
   "cell_type": "code",
   "execution_count": 6,
   "metadata": {},
   "outputs": [],
   "source": [
    "def HCAL():\n",
    "\n",
    "    with open('samples/reco/sample0.pickle', 'rb') as f:\n",
    "        reco=pickle.load(f)\n",
    "    #with open('samples/reco/sample1.pickle', 'rb') as f:\n",
    "    #    reco1=pickle.load(f)\n",
    "        \n",
    "    #reco=np.concatenate((reco,reco1),axis=0)\n",
    "    \n",
    "    pos=[]\n",
    "    for i in range(len(reco)):\n",
    "        if np.array_equal(reco[i],np.zeros_like(reco[i])):\n",
    "            pos.append(i)\n",
    "    reco = np.delete(reco, pos, axis=0)\n",
    "    reco[reco!=0]/=np.max(reco)\n",
    "    X_train_B=reco\n",
    "    \n",
    "    with open('samples/true/sample0.pickle', 'rb') as f:\n",
    "        true=pickle.load(f)\n",
    "    true = true[:,1:true.shape[1]-1,1:true.shape[2]-1]\n",
    "    #with open('samples/true/sample1.pickle', 'rb') as f:\n",
    "    #    true1=pickle.load(f)\n",
    "        \n",
    "    #true=np.concatenate((true,true1),axis=0)\n",
    "\n",
    "    true = np.delete(true, pos, axis=0)\n",
    "    true[true!=0]/=np.max(true)\n",
    "    \n",
    "    X_train_A = true\n",
    "    \n",
    "    m, n_H, n_W, n_C = X_train_A.shape\n",
    "    \n",
    "    #test_size = 5000\n",
    "    #train_size = m - test_size\n",
    "    \n",
    "    out = np.zeros_like(X_train_A)\n",
    "    \n",
    "    for i in range(len(out)):\n",
    "        out[i] = insert(X_train_B[i],out[i])\n",
    "    \n",
    "    X_train_B = out\n",
    "    \n",
    "    tf.reset_default_graph()\n",
    "\n",
    "    gan = cycleGAN(n_H, n_W, n_C, d_sizes_A, d_sizes_B, g_sizes_A, g_sizes_B,\n",
    "                   lr_g=LEARNING_RATE_G, lr_d=LEARNING_RATE_D,beta1=BETA1,\n",
    "                  batch_size=BATCH_SIZE, epochs=EPOCHS,\n",
    "                  save_sample=SAVE_SAMPLE_PERIOD, path=PATH)\n",
    "    \n",
    "    vars_to_train= tf.trainable_variables()\n",
    "    \n",
    "    if task == 'TRAIN':\n",
    "        init_op = tf.global_variables_initializer()\n",
    "        \n",
    "    if task == 'TEST':\n",
    "        vars_all = tf.global_variables()\n",
    "        vars_to_init = list(set(vars_all)-set(vars_to_train))\n",
    "        init_op = tf.variables_initializer(vars_to_init)\n",
    "        \n",
    "    # Add ops to save and restore all the variables.\n",
    "    saver = tf.train.Saver()    \n",
    "        \n",
    "    with tf.Session() as sess:\n",
    "        \n",
    "        sess.run(init_op)\n",
    "\n",
    "        if task=='TRAIN':\n",
    "            print('\\n Training...')\n",
    "            \n",
    "            if os.path.exists(PATH+'/'+PATH+'.ckpt.index'):\n",
    "                saver.restore(sess,PATH+'/'+PATH+'.ckpt')\n",
    "                print('Model restored.')\n",
    "            \n",
    "            gan.set_session(sess)\n",
    "            gan.fit(X_train_A, X_train_B)\n",
    "            \n",
    "            save_path = saver.save(sess, PATH+'/'+PATH+'.ckpt')\n",
    "            print(\"Model saved in path: %s\" % save_path)\n",
    "        \n",
    "        if task=='TEST':\n",
    "            print('\\n Evaluate model on test set...')\n",
    "            saver.restore(sess,PATH+'/'+PATH+'.ckpt')\n",
    "            print('Model restored.')\n",
    "            \n",
    "            gan.set_session(sess) \n",
    "            \n",
    "        done = True\n",
    "        while not done:\n",
    "            \n",
    "            \n",
    "            Z_in = np.random.uniform(-1,1, size=(1, g_sizes['z']))\n",
    "            \n",
    "            im = gan.get_sample(Z_in)\n",
    "            \n",
    "            plt.imshow(im.reshape(28,28), cmap='gray')\n",
    "            plt.show()\n",
    "            \n",
    "            \n",
    "            ans = input(\"Generate another?\")\n",
    "            if ans and ans[0] in ('n' or 'N'):\n",
    "                done = True"
   ]
  },
  {
   "cell_type": "code",
   "execution_count": 7,
   "metadata": {},
   "outputs": [
    {
     "name": "stdout",
     "output_type": "stream",
     "text": [
      "Convolutional Network architecture detected\n",
      "Convolutional Network architecture detected\n",
      "Discriminator_A\n",
      "Convolution\n",
      "Input for convolution shape  (?, 104, 128, 1)\n",
      "(53248, 1024)\n",
      "Logits shape (?, 1)\n",
      "Generator_A_to_B\n",
      "Input for deconvolution shape (?, 104, 128, 1)\n",
      "Deconvoluted output shape (?, 104, 128, 1)\n",
      "Discriminator_B\n",
      "Convolution\n",
      "Input for convolution shape  (?, 104, 128, 1)\n",
      "(53248, 1024)\n",
      "Logits shape (?, 1)\n",
      "Generator_B_to_A\n",
      "Input for deconvolution shape (?, 104, 128, 1)\n",
      "Deconvoluted output shape (?, 104, 128, 1)\n",
      "Discriminator_B\n",
      "Convolution\n",
      "Input for convolution shape  (?, 104, 128, 1)\n",
      "(53248, 1024)\n",
      "Logits shape (?, 1)\n",
      "Generator_B_to_A\n",
      "Input for deconvolution shape (?, 104, 128, 1)\n",
      "Deconvoluted output shape (?, 104, 128, 1)\n",
      "Discriminator_A\n",
      "Convolution\n",
      "Input for convolution shape  (?, 104, 128, 1)\n",
      "(53248, 1024)\n",
      "Logits shape (?, 1)\n",
      "Generator_A_to_B\n",
      "Input for deconvolution shape (?, 104, 128, 1)\n",
      "Deconvoluted output shape (?, 104, 128, 1)\n",
      "Generator_A_to_B\n",
      "Input for deconvolution shape (?, 104, 128, 1)\n",
      "Deconvoluted output shape (?, 104, 128, 1)\n",
      "\n",
      " Training...\n"
     ]
    },
    {
     "ename": "NameError",
     "evalue": "name 'X_train' is not defined",
     "output_type": "error",
     "traceback": [
      "\u001b[0;31m---------------------------------------------------------------------------\u001b[0m",
      "\u001b[0;31mNameError\u001b[0m                                 Traceback (most recent call last)",
      "\u001b[0;32m<ipython-input-7-7a8287a3c640>\u001b[0m in \u001b[0;36m<module>\u001b[0;34m()\u001b[0m\n\u001b[1;32m     24\u001b[0m                     \u001b[0mos\u001b[0m\u001b[0;34m.\u001b[0m\u001b[0mmkdir\u001b[0m\u001b[0;34m(\u001b[0m\u001b[0mPATH\u001b[0m\u001b[0;34m)\u001b[0m\u001b[0;34m\u001b[0m\u001b[0m\n\u001b[1;32m     25\u001b[0m \u001b[0;34m\u001b[0m\u001b[0m\n\u001b[0;32m---> 26\u001b[0;31m         \u001b[0mHCAL\u001b[0m\u001b[0;34m(\u001b[0m\u001b[0;34m)\u001b[0m\u001b[0;34m\u001b[0m\u001b[0m\n\u001b[0m\u001b[1;32m     27\u001b[0m \u001b[0;34m\u001b[0m\u001b[0m\n\u001b[1;32m     28\u001b[0m     \u001b[0;32melif\u001b[0m \u001b[0mtask\u001b[0m \u001b[0;34m==\u001b[0m \u001b[0;34m'TEST'\u001b[0m\u001b[0;34m:\u001b[0m\u001b[0;34m\u001b[0m\u001b[0m\n",
      "\u001b[0;32m<ipython-input-6-754d830f4af4>\u001b[0m in \u001b[0;36mHCAL\u001b[0;34m()\u001b[0m\n\u001b[1;32m     73\u001b[0m \u001b[0;34m\u001b[0m\u001b[0m\n\u001b[1;32m     74\u001b[0m             \u001b[0mgan\u001b[0m\u001b[0;34m.\u001b[0m\u001b[0mset_session\u001b[0m\u001b[0;34m(\u001b[0m\u001b[0msess\u001b[0m\u001b[0;34m)\u001b[0m\u001b[0;34m\u001b[0m\u001b[0m\n\u001b[0;32m---> 75\u001b[0;31m             \u001b[0mgan\u001b[0m\u001b[0;34m.\u001b[0m\u001b[0mfit\u001b[0m\u001b[0;34m(\u001b[0m\u001b[0mX_train\u001b[0m\u001b[0;34m)\u001b[0m\u001b[0;34m\u001b[0m\u001b[0m\n\u001b[0m\u001b[1;32m     76\u001b[0m \u001b[0;34m\u001b[0m\u001b[0m\n\u001b[1;32m     77\u001b[0m             \u001b[0msave_path\u001b[0m \u001b[0;34m=\u001b[0m \u001b[0msaver\u001b[0m\u001b[0;34m.\u001b[0m\u001b[0msave\u001b[0m\u001b[0;34m(\u001b[0m\u001b[0msess\u001b[0m\u001b[0;34m,\u001b[0m \u001b[0mPATH\u001b[0m\u001b[0;34m+\u001b[0m\u001b[0;34m'/'\u001b[0m\u001b[0;34m+\u001b[0m\u001b[0mPATH\u001b[0m\u001b[0;34m+\u001b[0m\u001b[0;34m'.ckpt'\u001b[0m\u001b[0;34m)\u001b[0m\u001b[0;34m\u001b[0m\u001b[0m\n",
      "\u001b[0;31mNameError\u001b[0m: name 'X_train' is not defined"
     ]
    }
   ],
   "source": [
    "if __name__=='__main__':\n",
    "\n",
    "    if task == 'TRAIN':\n",
    "        if not os.path.exists(PATH):\n",
    "            os.mkdir(PATH)\n",
    "    \n",
    "        elif os.path.exists(PATH):\n",
    "            if os.path.exists(PATH+'/checkpoint'):\n",
    "                ans = input('A previous checkpoint already exists, choose the action to perform \\n \\n 1) Overwrite the current model saved at '+PATH+'/checkpoint \\n 2) Start training a new model \\n 3) Restore and continue training the previous model \\n ')\n",
    "                \n",
    "                if ans == '1':\n",
    "                    print('Overwriting existing model in '+PATH)\n",
    "                    for file in os.listdir(PATH):\n",
    "                        file_path = os.path.join(PATH, file)\n",
    "                        try:\n",
    "                            if os.path.isfile(file_path):\n",
    "                                os.unlink(file_path)\n",
    "                            #elif os.path.isdir(file_path): shutil.rmtree(file_path)\n",
    "                        except Exception as e:\n",
    "                            print(e)\n",
    "                            \n",
    "                elif ans == '2':\n",
    "                    PATH = input('Specify the name of the model, a new directory will be created.\\n')\n",
    "                    os.mkdir(PATH)    \n",
    "        \n",
    "        HCAL()\n",
    "   \n",
    "    elif task == 'TEST': \n",
    "        if not os.path.exists(PATH+'/checkpoint'):\n",
    "            print('No checkpoint to test')\n",
    "        else:\n",
    "            HCAL()"
   ]
  },
  {
   "cell_type": "code",
   "execution_count": null,
   "metadata": {},
   "outputs": [],
   "source": [
    "    with open('samples/reco/sample0.pickle', 'rb') as f:\n",
    "        reco=pickle.load(f)\n",
    "    #with open('samples/reco/sample1.pickle', 'rb') as f:\n",
    "    #    reco1=pickle.load(f)\n",
    "        \n",
    "    #reco=np.concatenate((reco,reco1),axis=0)\n",
    "    \n",
    "    pos=[]\n",
    "    for i in range(len(reco)):\n",
    "        if np.array_equal(reco[i],np.zeros_like(reco[i])):\n",
    "            pos.append(i)\n",
    "    reco = np.delete(reco, pos, axis=0)\n",
    "    reco[reco!=0]/=np.max(reco)\n",
    "    X_train_B=reco\n",
    "    \n",
    "    with open('samples/true/sample0.pickle', 'rb') as f:\n",
    "        true=pickle.load(f)\n",
    "    true = true[:,1:true.shape[1]-1,1:true.shape[2]-1]\n",
    "    #with open('samples/true/sample1.pickle', 'rb') as f:\n",
    "    #    true1=pickle.load(f)\n",
    "        \n",
    "    #true=np.concatenate((true,true1),axis=0)\n",
    "\n",
    "    true = np.delete(true, pos, axis=0)\n",
    "    true[true!=0]/=np.max(true)\n",
    "    \n",
    "    X_train_A = true\n",
    "    \n",
    "    m, n_H, n_W, n_C = X_train_A.shape\n",
    "    \n",
    "    #test_size = 5000\n",
    "    #train_size = m - test_size\n",
    "    \n",
    "    out = np.zeros_like(X_train_A)\n",
    "    \n",
    "    for i in range(len(out)):\n",
    "        out[i] = insert(X_train_B[i],out[i])\n",
    "    \n",
    "    X_train_B = out\n",
    "        "
   ]
  },
  {
   "cell_type": "code",
   "execution_count": null,
   "metadata": {},
   "outputs": [],
   "source": [
    "X_train_A.shape"
   ]
  },
  {
   "cell_type": "code",
   "execution_count": null,
   "metadata": {},
   "outputs": [],
   "source": [
    "X_train_B.shape"
   ]
  },
  {
   "cell_type": "code",
   "execution_count": null,
   "metadata": {},
   "outputs": [],
   "source": [
    "out = np.zeros_like(X_train_A)"
   ]
  },
  {
   "cell_type": "code",
   "execution_count": null,
   "metadata": {},
   "outputs": [],
   "source": [
    "def insert(X_inner, X_outer):\n",
    "    X=X_outer\n",
    "    \n",
    "    for i in range(26,78):\n",
    "        for j in range(32,96):\n",
    "            X[i,j]=X_inner[i-26,j-36]\n",
    "    \n",
    "    return X"
   ]
  },
  {
   "cell_type": "code",
   "execution_count": null,
   "metadata": {},
   "outputs": [],
   "source": [
    "for i in range(len(out)):\n",
    "    out[i] = insert(X_train_B[i],out[i])"
   ]
  },
  {
   "cell_type": "code",
   "execution_count": null,
   "metadata": {},
   "outputs": [],
   "source": [
    "plt.imshow(out[1000].reshape(104,128),cmap='gray')"
   ]
  },
  {
   "cell_type": "code",
   "execution_count": null,
   "metadata": {},
   "outputs": [],
   "source": [
    "plt.imshow(X_train_A[1000].reshape(104,128),cmap='gray')"
   ]
  },
  {
   "cell_type": "code",
   "execution_count": null,
   "metadata": {},
   "outputs": [],
   "source": [
    "g_sizes_A={\n",
    "         'conv_layer_0':[()],\n",
    "         'conv_layer_1':[()],\n",
    "    \n",
    "         'convblock_layer_0':[(64, 4, 2, True, 1, tf.nn.relu, normal),\n",
    "                                (8, 4, 1, False, 1, tf.nn.relu, normal),\n",
    "                                (1, 4, 2, False, 1, tf.sigmoid, normal)],\n",
    "         'convblock_shortcut_layer_0':[(1, 1, 4, False, 1, normal)],\n",
    "    \n",
    "         'convblock_layer_1':[(64, 4, 2, True, 1, tf.nn.relu, normal),\n",
    "                                (8, 4, 1, False, 1, tf.nn.relu, normal),\n",
    "                                (1, 4, 2, False, 1, tf.sigmoid, normal)],\n",
    "         'convblock_shortcut_layer_1':[(1, 1, 4, False, 1, normal)],\n",
    "    \n",
    "         'deconv_layer_0':[()],\n",
    "         'deconv_layer_1':[()],\n",
    "        \n",
    "         \n",
    "}"
   ]
  },
  {
   "cell_type": "code",
   "execution_count": null,
   "metadata": {},
   "outputs": [],
   "source": [
    "                g_steps=0\n",
    "                for key in g_sizes_A:\n",
    "                    g_steps+=1\n",
    "\n",
    "                g_convs = 0\n",
    "                g_deconvs = 0\n",
    "\n",
    "                g_conv_blocks = 0\n",
    "                #g_deconv_blocks = 0\n",
    "\n",
    "                for key in g_sizes_A:\n",
    "\n",
    "                    if 'conv' in key:\n",
    "                        if not 'deconv' in key:\n",
    "                            if not 'shortcut' in key:\n",
    "                                if not 'block' in key:\n",
    "                                    g_convs+=1\n",
    "                    if 'convblock' and 'shortcut' in key:\n",
    "                        # if not 'deconv' in key:\n",
    "                            g_conv_blocks+=1\n",
    "\n",
    "                    # if 'deconvblock' and 'shortcut' in key:\n",
    "                    #     g_deconv_blocks+=1\n",
    "                        \n",
    "                    if 'deconv' in key:\n",
    "                        if not 'shortcut' in key:\n",
    "                             g_deconvs+=1\n",
    "                \n",
    "                assert g_steps == g_convs +2*(g_deconv_blocks+g_conv_blocks)+ g_deconvs,'\\nCheck keys in g_sizes, \\n sum of generator steps do not coincide with sum of convolutional layers and convolutional blocks'\n",
    "\n"
   ]
  },
  {
   "cell_type": "code",
   "execution_count": null,
   "metadata": {},
   "outputs": [],
   "source": [
    "g_convs"
   ]
  },
  {
   "cell_type": "code",
   "execution_count": null,
   "metadata": {},
   "outputs": [],
   "source": [
    "g_deconv_blocks"
   ]
  },
  {
   "cell_type": "code",
   "execution_count": null,
   "metadata": {},
   "outputs": [],
   "source": [
    "g_deconvs"
   ]
  },
  {
   "cell_type": "code",
   "execution_count": null,
   "metadata": {},
   "outputs": [],
   "source": [
    "g_conv_blocks"
   ]
  },
  {
   "cell_type": "code",
   "execution_count": null,
   "metadata": {},
   "outputs": [],
   "source": [
    "g_steps"
   ]
  },
  {
   "cell_type": "code",
   "execution_count": null,
   "metadata": {},
   "outputs": [],
   "source": [
    "g_sizes_A['deconvblock_layer_0']"
   ]
  },
  {
   "cell_type": "code",
   "execution_count": null,
   "metadata": {},
   "outputs": [],
   "source": []
  }
 ],
 "metadata": {
  "kernelspec": {
   "display_name": "Python 3",
   "language": "python",
   "name": "python3"
  }
 },
 "nbformat": 4,
 "nbformat_minor": 2
}
