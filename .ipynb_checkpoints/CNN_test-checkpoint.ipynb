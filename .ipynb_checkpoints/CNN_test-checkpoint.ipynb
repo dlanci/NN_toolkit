{
 "cells": [
  {
   "cell_type": "code",
   "execution_count": 1,
   "metadata": {},
   "outputs": [
    {
     "name": "stderr",
     "output_type": "stream",
     "text": [
      "/Users/Dave/anaconda3/envs/deepnet/lib/python3.6/importlib/_bootstrap.py:219: RuntimeWarning: compiletime version 3.5 of module 'tensorflow.python.framework.fast_tensor_util' does not match runtime version 3.6\n",
      "  return f(*args, **kwds)\n"
     ]
    }
   ],
   "source": [
    "import numpy as np\n",
    "import tensorflow as tf\n",
    "import matplotlib.pyplot as plt\n",
    "import os\n",
    "import pickle\n",
    "import math\n",
    "\n",
    "from CNN import *"
   ]
  },
  {
   "cell_type": "code",
   "execution_count": 2,
   "metadata": {},
   "outputs": [],
   "source": [
    "# some constants\n",
    "\n",
    "LEARNING_RATE = 0.009\n",
    "BETA1 = 0.5\n",
    "BATCH_SIZE = 128\n",
    "EPOCHS = 1000\n",
    "SAVE_SAMPLE_PERIOD = 100\n",
    "PATH='CNN_test'\n",
    "\n",
    "task='TRAIN'\n",
    "#task='TEST'\n",
    "SEED=1\n"
   ]
  },
  {
   "cell_type": "code",
   "execution_count": 3,
   "metadata": {},
   "outputs": [],
   "source": [
    "trunc_normal= tf.truncated_normal_initializer(stddev=1, seed=SEED)\n",
    "normal = tf.random_normal_initializer(stddev=1, seed=SEED)\n",
    "\n",
    "global sizes\n",
    "sizes = {\n",
    "        'conv_layer_0': [(8, 8, 2, False, 0.6, lrelu, normal)],\n",
    "        'maxpool_layer_0':[(4, 2, 1)],\n",
    "        'conv_layer_1':[(16, 6, 2, False, 0.6, lrelu, normal)],\n",
    "        'conv_layer_2':[(32, 4, 2, True, 0.6, lrelu, normal)],\n",
    "        'maxpool_layer_1':[(2, 2, 1)],\n",
    "        'dense_layers':[(512, True, 0.8, tf.nn.relu, normal)],\n",
    "        'n_classes':10\n",
    "}"
   ]
  },
  {
   "cell_type": "code",
   "execution_count": 4,
   "metadata": {},
   "outputs": [],
   "source": [
    "#trunc_normal= tf.truncated_normal_initializer(stddev=1, seed=SEED)\n",
    "#normal = tf.random_normal_initializer(stddev=1, seed=SEED)\n",
    "\n",
    "#global sizes\n",
    "#sizes = {\n",
    "#        'conv_layer_0': [(2, 2, 2, False, 1, lrelu, normal)],\n",
    "#        'maxpool_layer_0':[(4, 2, 1)],\n",
    "#        #'conv_layer_1':[(16, 6, 2, False, 1, lrelu, normal)],\n",
    "#        #'conv_layer_2':[(32, 4, 2, False, 1, lrelu, normal)],\n",
    "#        #'maxpool_layer_1':[(2, 2, 1)],\n",
    "#        'dense_layers':[(1, False, 1, tf.nn.relu, normal)],\n",
    "#        'n_classes':10\n",
    "#}"
   ]
  },
  {
   "cell_type": "code",
   "execution_count": 5,
   "metadata": {},
   "outputs": [],
   "source": [
    "def mnist():\n",
    "    \n",
    "    from tensorflow.examples.tutorials.mnist import input_data\n",
    "    mnist = input_data.read_data_sets(\"MNIST_data/\", one_hot=True)\n",
    "\n",
    "    X_train = mnist.train.images\n",
    "    Y_train = mnist.train.labels\n",
    "    \n",
    "    X_train = X_train.reshape(len(X_train),28,28,1)\n",
    "    Y_train = Y_train.reshape(len(Y_train),10)\n",
    "    \n",
    "    n_H = X_train.shape[1]\n",
    "    n_W = X_train.shape[2]\n",
    "    n_C = X_train.shape[-1]\n",
    "    \n",
    "    X_test = mnist.test.images\n",
    "    Y_test = mnist.test.labels\n",
    "    \n",
    "    X_test = X_test.reshape(len(X_test),28,28,1)\n",
    "    Y_test =  Y_test.reshape(len(Y_test),10)\n",
    "    \n",
    "    tf.reset_default_graph()\n",
    "    cnn = CNN(n_H, n_W, n_C, sizes,\n",
    "              lr=LEARNING_RATE, beta1=BETA1,\n",
    "              batch_size=BATCH_SIZE, epochs=EPOCHS,\n",
    "              save_sample=SAVE_SAMPLE_PERIOD, path=PATH, seed=SEED)\n",
    "    \n",
    "    vars_to_train= tf.trainable_variables()\n",
    "    \n",
    "    if task == 'TRAIN':\n",
    "        init_op = tf.global_variables_initializer()\n",
    "        \n",
    "    if task == 'TEST':\n",
    "        vars_all = tf.global_variables()\n",
    "        vars_to_init = list(set(vars_all)-set(vars_to_train))\n",
    "        init_op = tf.variables_initializer(vars_to_init)\n",
    "    \n",
    "    # Add ops to save and restore all the variables.\n",
    "    saver = tf.train.Saver()\n",
    "\n",
    "    with tf.Session() as sess:\n",
    "        \n",
    "        sess.run(init_op)\n",
    "\n",
    "        if task=='TRAIN':\n",
    "            print('\\n Training...')\n",
    "            \n",
    "            if os.path.exists(PATH+'/'+PATH+'.ckpt.index'):\n",
    "                saver.restore(sess,PATH+'/'+PATH+'.ckpt')\n",
    "                print('Model restored.')\n",
    "            \n",
    "            cnn.set_session(sess)\n",
    "            cnn.fit(X_train, Y_train, X_test, Y_test)\n",
    "            \n",
    "            save_path = saver.save(sess, PATH+'/'+PATH+'.ckpt')\n",
    "            print(\"Model saved in path: %s\" % save_path)\n",
    "        \n",
    "        if task=='TEST':\n",
    "            print('\\n Evaluate model on test set...')\n",
    "            saver.restore(sess,PATH+'/'+PATH+'.ckpt')\n",
    "            print('Model restored.')\n",
    "            \n",
    "            cnn.set_session(sess)   \n",
    "        \n",
    "        eval_seed=1   \n",
    "        done = False\n",
    "        while not done:\n",
    "            \n",
    "            np.random.seed(eval_seed)\n",
    "            i = np.random.choice(len(X_test))\n",
    "            x = X_test[i].reshape(X_test.shape[1],X_test.shape[2],X_test.shape[3])\n",
    "            ground_truth=np.where(Y_test[i]>0)[0][0]\n",
    "            p = cnn.predicted_Y_hat([x]).reshape(sizes['n_classes'])\n",
    "            prediction = np.where(p==np.max(p))[0][0]\n",
    "            \n",
    "            \n",
    "            plt.clf()\n",
    "            plt.imshow(x.reshape(\n",
    "                                X_test.shape[1],\n",
    "                                X_test.shape[2]),\n",
    "                                cmap='gray'\n",
    "                      )\n",
    "            plt.title('Input image')\n",
    "            plt.show()\n",
    "            \n",
    "            print('True class: '+str(ground_truth)+'\\n'+\n",
    "                  'Predicted class: '+str(prediction)+'\\n')\n",
    "                  \n",
    "            \n",
    "            eval_seed+=1\n",
    "            ans = input(\"Predict another?\")\n",
    "            if ans and ans[0] in ('n' or 'N'):\n",
    "                done = True"
   ]
  },
  {
   "cell_type": "code",
   "execution_count": 6,
   "metadata": {
    "scrolled": true
   },
   "outputs": [
    {
     "name": "stdout",
     "output_type": "stream",
     "text": [
      "Extracting MNIST_data/train-images-idx3-ubyte.gz\n",
      "Extracting MNIST_data/train-labels-idx1-ubyte.gz\n",
      "Extracting MNIST_data/t10k-images-idx3-ubyte.gz\n",
      "Extracting MNIST_data/t10k-labels-idx1-ubyte.gz\n",
      "Convolutional network architecture detected\n",
      "Convolution\n",
      "Input for convolution (?, 28, 28, 1)\n",
      "Logits shape (?, 10)\n",
      "Convolution\n",
      "Input for convolution (?, 28, 28, 1)\n",
      "Logits shape (?, 10)\n",
      "\n",
      " Training...\n",
      "\n",
      " ****** \n",
      "\n",
      "Training CNN for 1000 epochs with a total of 55000 samples\n",
      "distributed in 429 batches of size 128\n",
      "\n",
      "The learning rate set is 0.009\n",
      "\n",
      " ****** \n",
      "\n",
      "Evaluating performance on train/test sets\n",
      "At epoch 0, train cost: 0.01412, train accuracy 0.319\n",
      "test accuracy 0.5109\n",
      "Evaluating performance on train/test sets\n",
      "At epoch 100, train cost: 0.01284, train accuracy 0.7841\n",
      "test accuracy 0.5886\n",
      "Evaluating performance on train/test sets\n",
      "At epoch 200, train cost: 0.01278, train accuracy 0.8295\n",
      "test accuracy 0.6586\n",
      "Evaluating performance on train/test sets\n",
      "At epoch 300, train cost: 0.01262, train accuracy 0.7841\n",
      "test accuracy 0.5637\n",
      "Evaluating performance on train/test sets\n",
      "At epoch 400, train cost: 0.01258, train accuracy 0.8182\n",
      "test accuracy 0.6126\n",
      "Evaluating performance on train/test sets\n",
      "At epoch 500, train cost: 0.01265, train accuracy 0.8523\n",
      "test accuracy 0.6541\n",
      "Evaluating performance on train/test sets\n",
      "At epoch 600, train cost: 0.01248, train accuracy 0.8182\n",
      "test accuracy 0.598\n",
      "Evaluating performance on train/test sets\n",
      "At epoch 700, train cost: 0.01248, train accuracy 0.8295\n",
      "test accuracy 0.6231\n",
      "Evaluating performance on train/test sets\n",
      "At epoch 800, train cost: 0.01241, train accuracy 0.875\n",
      "test accuracy 0.6519\n",
      "Evaluating performance on train/test sets\n",
      "At epoch 900, train cost: 0.01241, train accuracy 0.8636\n",
      "test accuracy 0.656\n"
     ]
    },
    {
     "data": {
      "image/png": "[encoded data removed]",
      "text/plain": [
       "<matplotlib.figure.Figure at 0x124fc54e0>"
      ]
     },
     "metadata": {},
     "output_type": "display_data"
    },
    {
     "name": "stdout",
     "output_type": "stream",
     "text": [
      "Parameters trained\n",
      "Model saved in path: CNN_test/CNN_test.ckpt\n"
     ]
    },
    {
     "data": {
      "image/png": "[encoded data removed]",
      "text/plain": [
       "<matplotlib.figure.Figure at 0x1253f59e8>"
      ]
     },
     "metadata": {},
     "output_type": "display_data"
    },
    {
     "name": "stdout",
     "output_type": "stream",
     "text": [
      "True class: 9\n",
      "Predicted class: 9\n",
      "\n",
      "Predict another?n\n"
     ]
    }
   ],
   "source": [
    "if __name__=='__main__':\n",
    "\n",
    "    if task == 'TRAIN':\n",
    "        if not os.path.exists(PATH):\n",
    "            os.mkdir(PATH)\n",
    "    \n",
    "        elif os.path.exists(PATH):\n",
    "            if os.path.exists(PATH+'/checkpoint'):\n",
    "                ans = input('A previous checkpoint already exists, choose the action to perform \\n \\n 1) Overwrite the current model saved at '+PATH+'/checkpoint \\n 2) Start training a new model \\n 3) Restore and continue training the previous model \\n ')\n",
    "                \n",
    "                if ans == '1':\n",
    "                    print('Overwriting existing model in '+PATH)\n",
    "                    for file in os.listdir(PATH):\n",
    "                        file_path = os.path.join(PATH, file)\n",
    "                        try:\n",
    "                            if os.path.isfile(file_path):\n",
    "                                os.unlink(file_path)\n",
    "                            #elif os.path.isdir(file_path): shutil.rmtree(file_path)\n",
    "                        except Exception as e:\n",
    "                            print(e)\n",
    "                            \n",
    "                elif ans == '2':\n",
    "                    PATH = input('Specify the name of the model, a new directory will be created.\\n')\n",
    "                    os.mkdir(PATH)    \n",
    "        \n",
    "        mnist()\n",
    "   \n",
    "    elif task == 'TEST': \n",
    "        if not os.path.exists(PATH+'/checkpoint'):\n",
    "            print('No checkpoint to test')\n",
    "        else:\n",
    "            mnist()"
   ]
  },
  {
   "cell_type": "code",
   "execution_count": null,
   "metadata": {},
   "outputs": [],
   "source": [
    "#First output\n",
    "\n",
    "#Evaluating performance on train/test sets\n",
    "#At epoch 0, train cost: 0.01412, train accuracy 0.319\n",
    "#test accuracy 0.5109\n",
    "#Evaluating performance on train/test sets\n",
    "#At epoch 100, train cost: 0.01284, train accuracy 0.7841\n",
    "#test accuracy 0.5886"
   ]
  }
 ],
 "metadata": {
  "kernelspec": {
   "display_name": "Python 3",
   "language": "python",
   "name": "python3"
  },
  "language_info": {
   "codemirror_mode": {
    "name": "ipython",
    "version": 3
   },
   "file_extension": ".py",
   "mimetype": "text/x-python",
   "name": "python",
   "nbconvert_exporter": "python",
   "pygments_lexer": "ipython3",
   "version": "3.6.4"
  }
 },
 "nbformat": 4,
 "nbformat_minor": 2
}
