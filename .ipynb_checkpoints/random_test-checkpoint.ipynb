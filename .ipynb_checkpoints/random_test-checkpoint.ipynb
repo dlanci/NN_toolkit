{
 "cells": [
  {
   "cell_type": "code",
   "execution_count": 1,
   "metadata": {},
   "outputs": [],
   "source": [
    "import tensorflow as tf\n",
    "import numpy as np\n",
    "\n",
    "from NN_building_blocks import *\n",
    "trunc_normal= tf.truncated_normal_initializer(stddev=1, seed=1)\n",
    "normal = tf.random_normal_initializer(stddev=1, seed=1)\n"
   ]
  },
  {
   "cell_type": "code",
   "execution_count": 2,
   "metadata": {},
   "outputs": [],
   "source": [
    "tf.reset_default_graph()\n",
    "W_rand = tf.get_variable(\n",
    "    'W_rand',shape=(3,2),\n",
    "    initializer=tf.random_normal_initializer()\n",
    "    )\n",
    "W = tf.get_variable(\n",
    "    'W',shape=(3,2),\n",
    "    initializer=tf.random_normal_initializer(seed=1)\n",
    "    )\n"
   ]
  },
  {
   "cell_type": "code",
   "execution_count": 6,
   "metadata": {},
   "outputs": [
    {
     "name": "stdout",
     "output_type": "stream",
     "text": [
      "-0.811318\n",
      "1.35145\n"
     ]
    }
   ],
   "source": [
    "\n",
    "init = tf.global_variables_initializer()\n",
    "with tf.Session() as sess:\n",
    "    \n",
    "    sess.run(init)\n",
    "    print(sess.run(W[0,0]))\n",
    "    print(sess.run(W_rand[0,0]))"
   ]
  },
  {
   "cell_type": "code",
   "execution_count": 7,
   "metadata": {},
   "outputs": [],
   "source": [
    "global sizes\n",
    "sizes = {\n",
    "        'conv_layer_0': [(8, 8, 2, False, 0.6, lrelu, normal)],\n",
    "        'maxpool_layer_0':[(4, 2, 1)],\n",
    "        'conv_layer_1':[(16, 6, 2, True, 0.6, lrelu, normal)],\n",
    "        'conv_layer_2':[(32, 4, 2, False, 0.6, lrelu, normal)],\n",
    "        'max_pool_layer_1':[(2, 2, 1)],\n",
    "        'dense_layers':[(512, True, 0.6, tf.nn.relu, normal)],\n",
    "        'n_classes':10\n",
    "}"
   ]
  },
  {
   "cell_type": "code",
   "execution_count": 39,
   "metadata": {},
   "outputs": [],
   "source": [
    "tf.reset_default_graph()\n",
    "layer = DenseLayer('dense_layer', 2,4,False,0.8,tf.nn.relu,tf.random_uniform_initializer())\n",
    "conv_layer = ConvLayer('conv_layer',3,4,4,2,False,0.8,tf.nn.relu,normal)"
   ]
  },
  {
   "cell_type": "code",
   "execution_count": 40,
   "metadata": {},
   "outputs": [
    {
     "name": "stdout",
     "output_type": "stream",
     "text": [
      "0.348885\n",
      "-0.811318\n"
     ]
    }
   ],
   "source": [
    "init = tf.global_variables_initializer()\n",
    "with tf.Session() as sess:\n",
    "    sess.run(init)\n",
    "    print(sess.run(layer.W[0,0]))\n",
    "    print(sess.run(conv_layer.W[0,0,0,0]))\n",
    "    \n",
    "    \n",
    "    "
   ]
  },
  {
   "cell_type": "code",
   "execution_count": 41,
   "metadata": {},
   "outputs": [],
   "source": [
    "np.random.seed(1)\n",
    "X = np.float32(np.random.randn(4,2))\n",
    "X_conv=np.float32(np.random.randn(5,10,10,3))\n"
   ]
  },
  {
   "cell_type": "code",
   "execution_count": 46,
   "metadata": {},
   "outputs": [
    {
     "name": "stdout",
     "output_type": "stream",
     "text": [
      "6.18306\n",
      "1205.75\n"
     ]
    }
   ],
   "source": [
    "init = tf.global_variables_initializer()\n",
    "with tf.Session() as sess:\n",
    "    \n",
    "    sess.run(init)\n",
    "    print(np.sum(sess.run(layer.forward(X,reuse=False,is_training=True))))\n",
    "    print(np.sum(sess.run(conv_layer.forward(X_conv, reuse=False, is_training=True))))"
   ]
  },
  {
   "cell_type": "code",
   "execution_count": 49,
   "metadata": {},
   "outputs": [],
   "source": [
    "np.random.seed(1)\n",
    "X=np.random.randn(10,4,4)\n",
    "Y=np.random.randint(0,10,size=(10,4,4))"
   ]
  },
  {
   "cell_type": "code",
   "execution_count": 66,
   "metadata": {},
   "outputs": [
    {
     "name": "stdout",
     "output_type": "stream",
     "text": [
      "4.88573896023 329\n",
      "4.88573896023 329\n",
      "4.88573896023 329\n",
      "4.88573896023 329\n",
      "4.88573896023 329\n",
      "4.88573896023 329\n",
      "4.88573896023 329\n",
      "4.88573896023 329\n",
      "4.88573896023 329\n",
      "4.88573896023 329\n"
     ]
    }
   ],
   "source": [
    "seed=1\n",
    "for i in range(0,10):\n",
    "    seed+=1\n",
    "\n",
    "    test_batches=supervised_random_mini_batches(X, Y, 5, seed)\n",
    "    \n",
    "    for test_batch in test_batches:\n",
    "        \n",
    "        (X, Y) = test_batch\n",
    "        print(X.sum(), Y.sum())"
   ]
  },
  {
   "cell_type": "code",
   "execution_count": null,
   "metadata": {},
   "outputs": [],
   "source": []
  }
 ],
 "metadata": {
  "kernelspec": {
   "display_name": "Python 3",
   "language": "python",
   "name": "python3"
  },
  "language_info": {
   "codemirror_mode": {
    "name": "ipython",
    "version": 3
   },
   "file_extension": ".py",
   "mimetype": "text/x-python",
   "name": "python",
   "nbconvert_exporter": "python",
   "pygments_lexer": "ipython3",
   "version": "3.6.4"
  }
 },
 "nbformat": 4,
 "nbformat_minor": 2
}
