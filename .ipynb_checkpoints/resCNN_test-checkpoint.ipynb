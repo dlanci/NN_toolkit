{
 "cells": [
  {
   "cell_type": "code",
   "execution_count": 1,
   "metadata": {},
   "outputs": [],
   "source": [
    "import numpy as np\n",
    "import tensorflow as tf\n",
    "import matplotlib.pyplot as plt\n",
    "import os\n",
    "import pickle\n",
    "import math\n",
    "\n",
    "\n",
    "from architectures.resCNN import *"
   ]
  },
  {
   "cell_type": "code",
   "execution_count": 2,
   "metadata": {},
   "outputs": [],
   "source": [
    "# some constants\n",
    "\n",
    "LEARNING_RATE = 0.0095\n",
    "BETA1 = 0.5\n",
    "BATCH_SIZE = 128\n",
    "EPOCHS = 5000\n",
    "SAVE_SAMPLE_PERIOD = 1000\n",
    "task = 'TRAIN'\n",
    "#task = 'TEST'\n",
    "PATH='resCNN_test'\n",
    "SEED=1\n",
    "\n",
    "\n"
   ]
  },
  {
   "cell_type": "code",
   "execution_count": 3,
   "metadata": {},
   "outputs": [],
   "source": [
    "trunc_normal= tf.truncated_normal_initializer(stddev=1, seed=SEED)\n",
    "normal = tf.random_normal_initializer(stddev=1, seed=SEED)\n",
    "uniform = tf.random_uniform_initializer(seed=SEED)\n",
    "\n",
    "global sizes\n",
    "sizes = {\n",
    "        \n",
    "        'conv_layer_0':[(2, 8, 2, False, 0.7, lrelu, normal)],\n",
    "        'convblock_layer_0': [(8, 2, 1, 'bn', 0.7, lrelu, normal),\n",
    "                              (16, 4, 2, 'bn', 0.7, lrelu, normal),\n",
    "                             (24, 4, 1, 'bn', 0.7, lrelu, normal)],\n",
    "        'convblock_shortcut_layer_0':[(24, 1, 2, 'bn', 0.7, normal)],\n",
    "        #\n",
    "        'avgpool_layer_0':[(2, 2, 1)],\n",
    "        'convblock_layer_1': [(24, 4, 1, 'bn', 0.7, lrelu, normal),\n",
    "                              (36, 8, 2, 'bn', 0.7, lrelu, normal),\n",
    "                             (64, 16, 1, 'bn', 0.7, lrelu, normal)],\n",
    "        'convblock_shortcut_layer_1':[(64, 1, 2, 'bn', 0.7, normal)],\n",
    "        \n",
    "        'avgpool_layer_1':[(2, 2, 1)],\n",
    "        'dense_layers':[(512, 'bn', 0.5, tf.nn.relu, normal),\n",
    "                       (128, 'bn', 0.5, tf.nn.relu, normal),\n",
    "                       (64, False, 0.5, tf.nn.relu, normal)],\n",
    "        \n",
    "        'n_classes':10,\n",
    "        'readout_w_init':uniform\n",
    "         \n",
    "}"
   ]
  },
  {
   "cell_type": "code",
   "execution_count": 4,
   "metadata": {},
   "outputs": [],
   "source": [
    "def mnist():\n",
    "    \n",
    "    from tensorflow.examples.tutorials.mnist import input_data\n",
    "    mnist = input_data.read_data_sets(\"MNIST_data/\", one_hot=True)\n",
    "\n",
    "    X_train = mnist.train.images\n",
    "    Y_train = mnist.train.labels\n",
    "    \n",
    "    X_train = X_train.reshape(len(X_train),28,28,1)\n",
    "    Y_train = Y_train.reshape(len(Y_train),10)\n",
    "    \n",
    "    n_H = X_train.shape[1]\n",
    "    n_W = X_train.shape[2]\n",
    "    n_C = X_train.shape[-1]\n",
    "    \n",
    "    X_test = mnist.test.images\n",
    "    Y_test = mnist.test.labels\n",
    "    \n",
    "    X_test = X_test.reshape(len(X_test),28,28,1)\n",
    "    Y_test =  Y_test.reshape(len(Y_test),10)\n",
    "    \n",
    "    tf.reset_default_graph()\n",
    "    cnn = resCNN(n_H, n_W, n_C, sizes,\n",
    "              lr=LEARNING_RATE, beta1=BETA1,\n",
    "              batch_size=BATCH_SIZE, epochs=EPOCHS,\n",
    "              save_sample=SAVE_SAMPLE_PERIOD, path=PATH, seed=SEED)\n",
    "    \n",
    "    vars_to_train= tf.trainable_variables()\n",
    "    \n",
    "    if task == 'TRAIN':\n",
    "        init_op = tf.global_variables_initializer()\n",
    "        \n",
    "    if task == 'TEST':\n",
    "        vars_all = tf.global_variables()\n",
    "        vars_to_init = list(set(vars_all)-set(vars_to_train))\n",
    "        init_op = tf.variables_initializer(vars_to_init)\n",
    "    \n",
    "    # Add ops to save and restore all the variables.\n",
    "    saver = tf.train.Saver()\n",
    "    gpu_options = tf.GPUOptions(per_process_gpu_memory_fraction=0.1)\n",
    "    \n",
    "    with tf.Session(config=tf.ConfigProto(gpu_options=gpu_options)) as sess:\n",
    "        \n",
    "        sess.run(init_op)\n",
    "\n",
    "        if task=='TRAIN':\n",
    "            print('\\n Training...')\n",
    "            \n",
    "            if os.path.exists(PATH+'/'+PATH+'.ckpt.index'):\n",
    "                saver.restore(sess,PATH+'/'+PATH+'.ckpt')\n",
    "                print('Model restored.')\n",
    "            \n",
    "            cnn.set_session(sess)\n",
    "            cnn.fit(X_train, Y_train, X_test, Y_test)\n",
    "            \n",
    "            save_path = saver.save(sess, PATH+'/'+PATH+'.ckpt')\n",
    "            print(\"Model saved in path: %s\" % save_path)\n",
    "        \n",
    "        if task=='TEST':\n",
    "            print('\\n Evaluate model on test set...')\n",
    "            saver.restore(sess,PATH+'/'+PATH+'.ckpt')\n",
    "            print('Model restored.')\n",
    "            \n",
    "            cnn.set_session(sess)\n",
    "\n",
    "           \n",
    "        done = False\n",
    "        while not done:\n",
    "            \n",
    "            i = np.random.choice(len(X_test))\n",
    "            x = X_test[i].reshape(X_test.shape[1],X_test.shape[2],X_test.shape[3])\n",
    "            ground_truth=np.where(Y_test[i]>0)[0][0]\n",
    "            p = cnn.predicted_Y_hat([x]).reshape(sizes['n_classes'])\n",
    "            prediction = np.where(p==np.max(p))[0][0]\n",
    "            \n",
    "            \n",
    "            plt.clf()\n",
    "            plt.imshow(x.reshape(\n",
    "                                X_test.shape[1],\n",
    "                                X_test.shape[2]),\n",
    "                                cmap='gray'\n",
    "                      )\n",
    "            plt.title('Input image')\n",
    "            plt.show()\n",
    "            \n",
    "            print('True class: '+str(ground_truth)+'\\n'+\n",
    "                  'Predicted class: '+str(prediction)+'\\n')\n",
    "                  \n",
    "            \n",
    "            \n",
    "\n",
    "            ans = input(\"Predict another?\")\n",
    "            if ans and ans[0] in ('n' or 'N'):\n",
    "                done = True"
   ]
  },
  {
   "cell_type": "code",
   "execution_count": 5,
   "metadata": {
    "scrolled": false
   },
   "outputs": [
    {
     "name": "stdout",
     "output_type": "stream",
     "text": [
      "Extracting MNIST_data/train-images-idx3-ubyte.gz\n",
      "Extracting MNIST_data/train-labels-idx1-ubyte.gz\n",
      "Extracting MNIST_data/t10k-images-idx3-ubyte.gz\n",
      "Extracting MNIST_data/t10k-labels-idx1-ubyte.gz\n",
      "Convolution\n",
      "Input for convolution shape  (?, 28, 28, 1)\n",
      "Convolution_block_1\n",
      "Input shape (?, 28, 28, 1)\n",
      "Convolution_block_2\n",
      "Input shape (?, 14, 14, 2)\n",
      "Convolution_block_3\n",
      "Input shape (?, 7, 7, 24)\n",
      "Convolution_block_4\n",
      "Input shape (?, 4, 4, 24)\n",
      "Convolution_block_5\n",
      "Input shape (?, 2, 2, 64)\n",
      "Logits shape (?, 10)\n",
      "Convolution\n",
      "Input for convolution shape  (?, 28, 28, 1)\n",
      "Convolution_block_1\n",
      "Input shape (?, 28, 28, 1)\n",
      "Convolution_block_2\n",
      "Input shape (?, 14, 14, 2)\n",
      "Convolution_block_3\n",
      "Input shape (?, 7, 7, 24)\n",
      "Convolution_block_4\n",
      "Input shape (?, 4, 4, 24)\n",
      "Convolution_block_5\n",
      "Input shape (?, 2, 2, 64)\n",
      "Logits shape (?, 10)\n",
      "\n",
      " Training...\n",
      "\n",
      " ****** \n",
      "\n",
      "Training residual CNN for 5000 epochs with a total of 55000 samples\n",
      "distributed in 429 batches of size 128\n",
      "\n",
      "The learning rate set is 0.0095\n",
      "\n",
      " ****** \n",
      "\n",
      "Evaluating performance on train/test sets\n",
      "At epoch 0, train cost: 0.01735, train accuracy 0.1435\n",
      "test accuracy 0.2326\n",
      "Evaluating performance on train/test sets\n",
      "At epoch 1000, train cost: 0.01462, train accuracy 0.6705\n",
      "test accuracy 0.4894\n",
      "Evaluating performance on train/test sets\n",
      "At epoch 2000, train cost: 0.01363, train accuracy 0.75\n",
      "test accuracy 0.5499\n",
      "Evaluating performance on train/test sets\n",
      "At epoch 3000, train cost: 0.01382, train accuracy 0.7386\n",
      "test accuracy 0.5522\n",
      "Evaluating performance on train/test sets\n",
      "At epoch 4000, train cost: 0.0139, train accuracy 0.7841\n",
      "test accuracy 0.599\n"
     ]
    },
    {
     "data": {
      "image/png": "[encoded data removed]",
      "text/plain": [
       "<Figure size 432x288 with 1 Axes>"
      ]
     },
     "metadata": {},
     "output_type": "display_data"
    },
    {
     "name": "stdout",
     "output_type": "stream",
     "text": [
      "Parameters trained\n",
      "Model saved in path: resCNN_test/resCNN_test.ckpt\n"
     ]
    },
    {
     "data": {
      "image/png": "[encoded data removed]",
      "text/plain": [
       "<Figure size 432x288 with 1 Axes>"
      ]
     },
     "metadata": {},
     "output_type": "display_data"
    },
    {
     "name": "stdout",
     "output_type": "stream",
     "text": [
      "True class: 1\n",
      "Predicted class: 1\n",
      "\n",
      "Predict another?\n"
     ]
    },
    {
     "data": {
      "image/png": "[encoded data removed]",
      "text/plain": [
       "<Figure size 432x288 with 1 Axes>"
      ]
     },
     "metadata": {},
     "output_type": "display_data"
    },
    {
     "name": "stdout",
     "output_type": "stream",
     "text": [
      "True class: 0\n",
      "Predicted class: 0\n",
      "\n",
      "Predict another?\n"
     ]
    },
    {
     "data": {
      "image/png": "[encoded data removed]",
      "text/plain": [
       "<Figure size 432x288 with 1 Axes>"
      ]
     },
     "metadata": {},
     "output_type": "display_data"
    },
    {
     "name": "stdout",
     "output_type": "stream",
     "text": [
      "True class: 7\n",
      "Predicted class: 7\n",
      "\n",
      "Predict another?\n"
     ]
    },
    {
     "data": {
      "image/png": "[encoded data removed]",
      "text/plain": [
       "<Figure size 432x288 with 1 Axes>"
      ]
     },
     "metadata": {},
     "output_type": "display_data"
    },
    {
     "name": "stdout",
     "output_type": "stream",
     "text": [
      "True class: 2\n",
      "Predicted class: 1\n",
      "\n",
      "Predict another?n\n"
     ]
    }
   ],
   "source": [
    "if __name__=='__main__':\n",
    "\n",
    "    if task == 'TRAIN':\n",
    "        if not os.path.exists(PATH):\n",
    "            os.mkdir(PATH)\n",
    "    \n",
    "        elif os.path.exists(PATH):\n",
    "            if os.path.exists(PATH+'/checkpoint'):\n",
    "                ans = input('A previous checkpoint already exists, choose the action to perform \\n \\n 1) Overwrite the current model saved at '+PATH+'/checkpoint \\n 2) Start training a new model \\n 3) Restore and continue training the previous model \\n ')\n",
    "                \n",
    "                if ans == '1':\n",
    "                    print('Overwriting existing model in '+PATH)\n",
    "                    for file in os.listdir(PATH):\n",
    "                        file_path = os.path.join(PATH, file)\n",
    "                        try:\n",
    "                            if os.path.isfile(file_path):\n",
    "                                os.unlink(file_path)\n",
    "                            #elif os.path.isdir(file_path): shutil.rmtree(file_path)\n",
    "                        except Exception as e:\n",
    "                            print(e)\n",
    "                            \n",
    "                elif ans == '2':\n",
    "                    PATH = input('Specify the name of the model, a new directory will be created.\\n')\n",
    "                    os.mkdir(PATH)    \n",
    "        \n",
    "        mnist()\n",
    "   \n",
    "    elif task == 'TEST': \n",
    "        if not os.path.exists(PATH+'/checkpoint'):\n",
    "            print('No checkpoint to test')\n",
    "        else:\n",
    "            mnist()"
   ]
  },
  {
   "cell_type": "code",
   "execution_count": null,
   "metadata": {},
   "outputs": [],
   "source": []
  },
  {
   "cell_type": "code",
   "execution_count": null,
   "metadata": {},
   "outputs": [],
   "source": []
  }
 ],
 "metadata": {
  "kernelspec": {
   "display_name": "Python 3",
   "language": "python",
   "name": "python3"
  },
  "language_info": {
   "codemirror_mode": {
    "name": "ipython",
    "version": 3
   },
   "file_extension": ".py",
   "mimetype": "text/x-python",
   "name": "python",
   "nbconvert_exporter": "python",
   "pygments_lexer": "ipython3",
   "version": "3.6.5"
  }
 },
 "nbformat": 4,
 "nbformat_minor": 2
}
