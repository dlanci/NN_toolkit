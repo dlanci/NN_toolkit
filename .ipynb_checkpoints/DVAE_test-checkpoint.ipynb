{
 "cells": [
  {
   "cell_type": "code",
   "execution_count": 1,
   "metadata": {},
   "outputs": [],
   "source": [
    "import numpy as np\n",
    "import tensorflow as tf\n",
    "import matplotlib.pyplot as plt\n",
    "import os\n",
    "import pickle\n",
    "import math\n",
    "\n",
    "from architectures.DVAE import *"
   ]
  },
  {
   "cell_type": "code",
   "execution_count": 2,
   "metadata": {},
   "outputs": [],
   "source": [
    "# some constants\n",
    "\n",
    "LEARNING_RATE = 0.0001\n",
    "BETA1 = 0.5\n",
    "BATCH_SIZE = 128\n",
    "EPOCHS = 10\n",
    "SAVE_SAMPLE_PERIOD = 860\n",
    "\n",
    "task='TRAIN'\n",
    "#task='TEST'\n",
    "PATH='DVAE_test'\n",
    "SEED=1"
   ]
  },
  {
   "cell_type": "code",
   "execution_count": 3,
   "metadata": {},
   "outputs": [],
   "source": [
    "trunc_normal= tf.truncated_normal_initializer(stddev=0.02, seed=SEED)\n",
    "normal = tf.random_normal_initializer(stddev=0.02, seed=SEED)\n",
    "glorot_normal = tf.glorot_normal_initializer(seed=SEED)\n",
    "\n",
    "global e_sizes, d_sizes\n",
    "e_sizes = {'dense_layers':[(512, 'bn', 1, tf.nn.relu, glorot_normal),\n",
    "                           (384, 'bn', 1, tf.nn.relu, glorot_normal),\n",
    "                           (256, False, 1, tf.nn.relu, glorot_normal)],\n",
    "           'readout_layer_w_init':glorot_normal,\n",
    "           'z':10,\n",
    "}\n",
    "d_sizes = { 'dense_layers':[(256, False, 1, tf.nn.relu, glorot_normal),\n",
    "                            (384, 'bn', 1, tf.nn.relu, glorot_normal),\n",
    "                            (512, 'bn', 1, tf.nn.relu, glorot_normal),],\n",
    "           'readout_layer_w_init':glorot_normal,\n",
    "}"
   ]
  },
  {
   "cell_type": "code",
   "execution_count": 4,
   "metadata": {},
   "outputs": [],
   "source": [
    "def mnist():\n",
    "\n",
    "    from tensorflow.examples.tutorials.mnist import input_data\n",
    "    mnist = input_data.read_data_sets(\"MNIST_data/\", one_hot=False)\n",
    "    \n",
    "    X_train = mnist.train.images\n",
    "    #X_train = (X_train>0.5).astype(np.float32)\n",
    "    \n",
    "    X_test = mnist.test.images\n",
    "    #X_test = (X_test>0.5).astype(np.float32)\n",
    "\n",
    "    dim = X_train.shape[1]\n",
    "    \n",
    "    tf.reset_default_graph()\n",
    "    vae = DVAE(dim, e_sizes, d_sizes,\n",
    "              lr=LEARNING_RATE, beta1=BETA1,\n",
    "              batch_size=BATCH_SIZE, epochs=EPOCHS,\n",
    "              save_sample= SAVE_SAMPLE_PERIOD, path=PATH, seed=SEED, img_height=28, img_width=28 )\n",
    "    \n",
    "    vars_to_train= tf.trainable_variables()\n",
    "    \n",
    "    if task == 'TRAIN':\n",
    "        init_op = tf.global_variables_initializer()\n",
    "        \n",
    "    if task == 'TEST':\n",
    "        vars_all = tf.global_variables()\n",
    "        vars_to_init = list(set(vars_all)-set(vars_to_train))\n",
    "        init_op = tf.variables_initializer(vars_to_init)\n",
    "    \n",
    "    # Add ops to save and restore all the variables.\n",
    "    saver = tf.train.Saver()\n",
    "    gpu_options = tf.GPUOptions(per_process_gpu_memory_fraction=0.25)\n",
    "    with tf.Session(config=tf.ConfigProto(gpu_options=gpu_options)) as sess:\n",
    "        \n",
    "        sess.run(init_op)\n",
    "\n",
    "        if task=='TRAIN':\n",
    "            print('\\n Training...')\n",
    "            \n",
    "            if os.path.exists(PATH+'/'+PATH+'.ckpt.index'):\n",
    "                saver.restore(sess,PATH+'/'+PATH+'.ckpt')\n",
    "                print('Model restored.')\n",
    "            \n",
    "            vae.set_session(sess)\n",
    "            vae.fit(X_train)\n",
    "            \n",
    "            save_path = saver.save(sess, PATH+'/'+PATH+'.ckpt')\n",
    "            print(\"Model saved in path: %s\" % save_path)\n",
    "        \n",
    "        if task=='TEST':\n",
    "            print('\\n Evaluate model on test set...')\n",
    "            saver.restore(sess,PATH+'/'+PATH+'.ckpt')\n",
    "            print('Model restored.')\n",
    "            \n",
    "            vae.set_session(sess)\n",
    "            \n",
    "        done = False\n",
    "        i=0\n",
    "        while not done:\n",
    "            \n",
    "            im = vae.get_sample()\n",
    "\n",
    "            plt.imshow(im.reshape(28,28), cmap='gray')\n",
    "            plt.title('Sampled')\n",
    "            \n",
    "            fig = plt.gcf()\n",
    "            fig.set_size_inches(5, 5)\n",
    "            plt.savefig(PATH+'/sampled_from_dist_%d.png' % i,dpi=100)\n",
    "            plt.show()\n",
    "            i+=1\n",
    "            \n",
    "            ans = input(\"Generate another?\")\n",
    "            if ans and ans[0] in ('n' or 'N'):\n",
    "                done = True\n",
    "            "
   ]
  },
  {
   "cell_type": "code",
   "execution_count": 5,
   "metadata": {
    "scrolled": true
   },
   "outputs": [
    {
     "name": "stdout",
     "output_type": "stream",
     "text": [
      "A previous checkpoint already exists, choose the action to perform \n",
      " \n",
      " 1) Overwrite the current model saved at DVAE_test/checkpoint \n",
      " 2) Start training a new model \n",
      " 3) Restore and continue training the previous model \n",
      " 1\n",
      "Overwriting existing model in DVAE_test\n",
      "Extracting MNIST_data/train-images-idx3-ubyte.gz\n",
      "Extracting MNIST_data/train-labels-idx1-ubyte.gz\n",
      "Extracting MNIST_data/t10k-images-idx3-ubyte.gz\n",
      "Extracting MNIST_data/t10k-labels-idx1-ubyte.gz\n",
      "Encoder output shape (?, 10)\n",
      "10\n",
      "\n",
      " Training...\n",
      "\n",
      " ****** \n",
      "\n",
      "Training deep VAE with a total of 55000 samples distributed in batches of size 128\n",
      "\n",
      "The learning rate set is 0.0001, and every 860 iterations a generated sample will be saved to DVAE_test\n",
      "\n",
      " ****** \n",
      "\n",
      "Epoch: 0\n",
      "Epoch: 1\n",
      "At iteration: 860  -  dt: 0:00:01.594217 - cost: 1.34\n",
      "Saving a sample...\n",
      "Epoch: 2\n",
      "Epoch: 3\n",
      "At iteration: 1720  -  dt: 0:00:01.583438 - cost: 1.04\n",
      "Saving a sample...\n",
      "Epoch: 4\n",
      "Epoch: 5\n",
      "At iteration: 2580  -  dt: 0:00:01.582110 - cost: 0.96\n",
      "Saving a sample...\n",
      "Epoch: 6\n",
      "Epoch: 7\n",
      "At iteration: 3440  -  dt: 0:00:01.580809 - cost: 0.87\n",
      "Saving a sample...\n",
      "Epoch: 8\n",
      "Epoch: 9\n",
      "At iteration: 4300  -  dt: 0:00:01.565671 - cost: 0.89\n",
      "Saving a sample...\n",
      "Parameters trained\n",
      "Model saved in path: DVAE_test/DVAE_test.ckpt\n"
     ]
    },
    {
     "data": {
      "image/png": "[encoded data removed]",
      "text/plain": [
       "<Figure size 360x360 with 1 Axes>"
      ]
     },
     "metadata": {},
     "output_type": "display_data"
    },
    {
     "name": "stdout",
     "output_type": "stream",
     "text": [
      "Generate another?\n"
     ]
    },
    {
     "data": {
      "image/png": "[encoded data removed]",
      "text/plain": [
       "<Figure size 360x360 with 1 Axes>"
      ]
     },
     "metadata": {},
     "output_type": "display_data"
    },
    {
     "name": "stdout",
     "output_type": "stream",
     "text": [
      "Generate another?\n"
     ]
    },
    {
     "data": {
      "image/png": "[encoded data removed]",
      "text/plain": [
       "<Figure size 360x360 with 1 Axes>"
      ]
     },
     "metadata": {},
     "output_type": "display_data"
    },
    {
     "name": "stdout",
     "output_type": "stream",
     "text": [
      "Generate another?\n"
     ]
    },
    {
     "data": {
      "image/png": "[encoded data removed]",
      "text/plain": [
       "<Figure size 360x360 with 1 Axes>"
      ]
     },
     "metadata": {},
     "output_type": "display_data"
    },
    {
     "name": "stdout",
     "output_type": "stream",
     "text": [
      "Generate another?\n"
     ]
    },
    {
     "data": {
      "image/png": "[encoded data removed]",
      "text/plain": [
       "<Figure size 360x360 with 1 Axes>"
      ]
     },
     "metadata": {},
     "output_type": "display_data"
    },
    {
     "name": "stdout",
     "output_type": "stream",
     "text": [
      "Generate another?\n"
     ]
    },
    {
     "data": {
      "image/png": "[encoded data removed]",
      "text/plain": [
       "<Figure size 360x360 with 1 Axes>"
      ]
     },
     "metadata": {},
     "output_type": "display_data"
    },
    {
     "name": "stdout",
     "output_type": "stream",
     "text": [
      "Generate another?\n"
     ]
    },
    {
     "data": {
      "image/png": "[encoded data removed]",
      "text/plain": [
       "<Figure size 360x360 with 1 Axes>"
      ]
     },
     "metadata": {},
     "output_type": "display_data"
    },
    {
     "name": "stdout",
     "output_type": "stream",
     "text": [
      "Generate another?\n"
     ]
    },
    {
     "data": {
      "image/png": "[encoded data removed]",
      "text/plain": [
       "<Figure size 360x360 with 1 Axes>"
      ]
     },
     "metadata": {},
     "output_type": "display_data"
    },
    {
     "name": "stdout",
     "output_type": "stream",
     "text": [
      "Generate another?n\n"
     ]
    }
   ],
   "source": [
    "if __name__=='__main__':\n",
    "\n",
    "    if task == 'TRAIN':\n",
    "        if not os.path.exists(PATH):\n",
    "            os.mkdir(PATH)\n",
    "    \n",
    "        elif os.path.exists(PATH):\n",
    "            if os.path.exists(PATH+'/checkpoint'):\n",
    "                ans = input('A previous checkpoint already exists, choose the action to perform \\n \\n 1) Overwrite the current model saved at '+PATH+'/checkpoint \\n 2) Start training a new model \\n 3) Restore and continue training the previous model \\n ')\n",
    "                \n",
    "                if ans == '1':\n",
    "                    print('Overwriting existing model in '+PATH)\n",
    "                    for file in os.listdir(PATH):\n",
    "                        file_path = os.path.join(PATH, file)\n",
    "                        try:\n",
    "                            if os.path.isfile(file_path):\n",
    "                                os.unlink(file_path)\n",
    "                            #elif os.path.isdir(file_path): shutil.rmtree(file_path)\n",
    "                        except Exception as e:\n",
    "                            print(e)\n",
    "                            \n",
    "                elif ans == '2':\n",
    "                    PATH = input('Specify the name of the model, a new directory will be created.\\n')\n",
    "                    os.mkdir(PATH)    \n",
    "        \n",
    "        mnist()\n",
    "   \n",
    "    elif task == 'TEST': \n",
    "        if not os.path.exists(PATH+'/checkpoint'):\n",
    "            print('No checkpoint to test')\n",
    "        else:\n",
    "            mnist()"
   ]
  },
  {
   "cell_type": "code",
   "execution_count": null,
   "metadata": {},
   "outputs": [],
   "source": []
  },
  {
   "cell_type": "code",
   "execution_count": null,
   "metadata": {},
   "outputs": [],
   "source": []
  }
 ],
 "metadata": {
  "kernelspec": {
   "display_name": "Python 3",
   "language": "python",
   "name": "python3"
  },
  "language_info": {
   "codemirror_mode": {
    "name": "ipython",
    "version": 3
   },
   "file_extension": ".py",
   "mimetype": "text/x-python",
   "name": "python",
   "nbconvert_exporter": "python",
   "pygments_lexer": "ipython3",
   "version": "3.6.5"
  }
 },
 "nbformat": 4,
 "nbformat_minor": 2
}
