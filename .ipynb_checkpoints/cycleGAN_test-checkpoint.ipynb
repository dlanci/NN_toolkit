{
 "cells": [
  {
   "cell_type": "code",
   "execution_count": 1,
   "metadata": {},
   "outputs": [],
   "source": [
    "import scipy as sp\n",
    "import numpy as np\n",
    "import os \n",
    "import pickle\n",
    "\n",
    "import tensorflow as tf\n",
    "import matplotlib.pyplot as plt\n",
    "from datetime import datetime\n",
    "\n",
    "from architectures.cycleGAN import *"
   ]
  },
  {
   "cell_type": "code",
   "execution_count": 2,
   "metadata": {},
   "outputs": [
    {
     "data": {
      "text/plain": [
       "'1.4.1'"
      ]
     },
     "execution_count": 2,
     "metadata": {},
     "output_type": "execute_result"
    }
   ],
   "source": [
    "import tensorflow as tf\n",
    "tf.__version__"
   ]
  },
  {
   "cell_type": "code",
   "execution_count": 3,
   "metadata": {},
   "outputs": [],
   "source": [
    "# some constants\n",
    "\n",
    "LEARNING_RATE_D = 0.0001\n",
    "LEARNING_RATE_G = 0.0001\n",
    "BETA1 = 0.5\n",
    "BATCH_SIZE = 5\n",
    "EPOCHS = 1\n",
    "SAVE_SAMPLE_PERIOD = 5\n",
    "task='TRAIN'\n",
    "#task='TEST'\n",
    "SEED=1\n",
    "\n",
    "PATH = 'cycleGAN_test'"
   ]
  },
  {
   "cell_type": "code",
   "execution_count": 4,
   "metadata": {},
   "outputs": [],
   "source": [
    "trunc_normal= tf.truncated_normal_initializer(stddev=0.02)\n",
    "normal = tf.random_normal_initializer(stddev=0.02)\n",
    "\n",
    "uniform = tf.random_uniform_initializer()\n",
    "glorot_uniform = tf.glorot_uniform_initializer()\n",
    "glorot_normal = tf.glorot_normal_initializer()\n",
    "\n",
    "global d_sizes, g_sizes\n",
    "\n",
    "d_sizes_A = {\n",
    "         'conv_layers': [(2, 6, 2, False, 1, lrelu, trunc_normal),\n",
    "                         (32, 6, 2, False, 1, lrelu, trunc_normal)],\n",
    "         'dense_layers': [(512, True, 1, lrelu ,trunc_normal)],\n",
    "         'readout_layer_w_init':normal,\n",
    "}\n",
    "\n",
    "d_sizes_B = {\n",
    "         'conv_layers': [(2, 6, 2, False, 1, lrelu, trunc_normal),\n",
    "                         (32, 6, 2, False, 1, lrelu, trunc_normal)],\n",
    "         'dense_layers': [(512, True, 1, lrelu ,trunc_normal)],\n",
    "         'readout_layer_w_init':normal,\n",
    "}\n",
    "\n",
    "g_sizes_A={\n",
    "         'conv_layer_0':[(3, 8, 2, False, 1, tf.nn.relu, glorot_normal)],\n",
    "         'conv_layer_1':[(16, 6, 2, False, 1, tf.nn.relu, glorot_normal)],\n",
    "         'convblock_layer_0':[(32, 4, 2, True, 1, tf.nn.relu, glorot_normal),\n",
    "                                (32, 4, 1, False, 1, tf.nn.relu, glorot_normal),\n",
    "                                (32, 4, 2, True, 1, tf.nn.relu, glorot_normal)],\n",
    "         'convblock_shortcut_layer_0':[(32, 1, 4, False, 1, glorot_normal)],\n",
    "         'deconv_layer_0':[(16, 6, 2, False, 1, tf.nn.relu, glorot_normal)],\n",
    "         'deconv_layer_1':[(3, 8, 2, False, 1, tf.nn.relu, glorot_normal)],\n",
    "         \n",
    "        \n",
    "}\n",
    "\n",
    "g_sizes_B={\n",
    "         'conv_layer_0':[(3, 8, 2, False, 1, tf.nn.relu, glorot_normal)],\n",
    "         'conv_layer_1':[(16, 6, 2, False, 1, tf.nn.relu, glorot_normal)],\n",
    "         'convblock_layer_0':[(32, 4, 2, True, 1, tf.nn.relu, glorot_normal),\n",
    "                                (32, 4, 1, False, 1, tf.nn.relu, glorot_normal),\n",
    "                                (32, 4, 2, True, 1, tf.nn.relu, glorot_normal)],\n",
    "         'convblock_shortcut_layer_0':[(32, 1, 4, False, 1, glorot_normal)],\n",
    "         'deconv_layer_0':[(16, 6, 2, False, 1, tf.nn.relu, glorot_normal)],\n",
    "         'deconv_layer_1':[(3, 8, 2, False, 1, tf.nn.relu, glorot_normal)],\n",
    "         \n",
    "         \n",
    "}"
   ]
  },
  {
   "cell_type": "code",
   "execution_count": 5,
   "metadata": {},
   "outputs": [],
   "source": [
    "def Horse2Zebra():\n",
    "    \n",
    "    train_A = np.array(\n",
    "    [plt.imread(\"horse2zebra/trainA/\"+filename) for filename in os.listdir(\"horse2zebra/trainA\")]\n",
    "    )\n",
    "    \n",
    "    train_B = np.array(\n",
    "    [plt.imread(\"./horse2zebra/trainB/\"+filename) for filename in os.listdir(\"./horse2zebra/trainB\")]\n",
    "    )\n",
    "    \n",
    "    m = np.minimum(train_A.shape[0],train_B.shape[0])\n",
    "    \n",
    "    _, n_H, n_W, n_C = train_A.shape\n",
    "    \n",
    "    X_train_A = train_A[0:m]\n",
    "    X_train_B = train_B[0:m]\n",
    "    \n",
    "    train_A=train_A.astype(np.float32)\n",
    "    mean_A=np.mean(train_A,axis=0)\n",
    "    train_A-=mean_A\n",
    "    std_A=np.std(train_A,axis=0)\n",
    "    train_A/=std_A\n",
    "    \n",
    "    train_B=train_B.astype(np.float32)\n",
    "    mean_B=np.mean(train_B,axis=0)\n",
    "    train_B-=mean_B\n",
    "    std_B=np.std(train_B,axis=0)\n",
    "    train_B/=std_B\n",
    "    \n",
    "    tf.reset_default_graph()\n",
    "\n",
    "    gan = cycleGAN(n_H, n_W, n_C, mean_A, std_A, mean_B, std_B, d_sizes_A, d_sizes_B, g_sizes_A, g_sizes_B,\n",
    "                   lr_g=LEARNING_RATE_G, lr_d=LEARNING_RATE_D,beta1=BETA1,\n",
    "                  batch_size=BATCH_SIZE, epochs=EPOCHS,\n",
    "                  save_sample=SAVE_SAMPLE_PERIOD, path=PATH, seed=SEED)\n",
    "    \n",
    "    vars_to_train= tf.trainable_variables()\n",
    "    \n",
    "    if task == 'TRAIN':\n",
    "        init_op = tf.global_variables_initializer()\n",
    "        \n",
    "    if task == 'TEST':\n",
    "        vars_all = tf.global_variables()\n",
    "        vars_to_init = list(set(vars_all)-set(vars_to_train))\n",
    "        init_op = tf.variables_initializer(vars_to_init)\n",
    "        \n",
    "    # Add ops to save and restore all the variables.\n",
    "    saver = tf.train.Saver()    \n",
    "        \n",
    "    with tf.Session() as sess:\n",
    "        \n",
    "        sess.run(init_op)\n",
    "\n",
    "        if task=='TRAIN':\n",
    "            print('\\n Training...')\n",
    "            \n",
    "            if os.path.exists(PATH+'/'+PATH+'.ckpt.index'):\n",
    "                saver.restore(sess,PATH+'/'+PATH+'.ckpt')\n",
    "                print('Model restored.')\n",
    "            \n",
    "            gan.set_session(sess)\n",
    "            gan.fit(X_train_A, X_train_B)\n",
    "            \n",
    "            save_path = saver.save(sess, PATH+'/'+PATH+'.ckpt')\n",
    "            print(\"Model saved in path: %s\" % save_path)\n",
    "        \n",
    "        if task=='TEST':\n",
    "            print('\\n Evaluate model on test set...')\n",
    "            saver.restore(sess,PATH+'/'+PATH+'.ckpt')\n",
    "            print('Model restored.')\n",
    "            \n",
    "            gan.set_session(sess) \n",
    "            \n",
    "        done = True\n",
    "        while not done:\n",
    "            \n",
    "            \n",
    "            j = np.random.choice(len(X_train_A))\n",
    "            true_img = X_train_A[j]\n",
    "            sample_img = gan.get_sample(true_img)\n",
    "            \n",
    "            plt.subplot(1,2,1)\n",
    "            plt.imshow(true_img.reshape(n_H,n_W),cmap='gray')\n",
    "            plt.subplot(1,2,2)\n",
    "            plt.imshow(sample_img.reshape(n_H,n_W),cmap='gray')\n",
    "            \n",
    "            fig=plt.gcf()\n",
    "            fig.set_size_inches(5,8)\n",
    "            plt.savefig(PATH+'/sample_{0}_at_iter_{1}.png'.format(j, total_iters),dpi=300)\n",
    "            \n",
    "            ans = input(\"Generate another?\")\n",
    "            if ans and ans[0] in ('n' or 'N'):\n",
    "                done = True"
   ]
  },
  {
   "cell_type": "code",
   "execution_count": 6,
   "metadata": {},
   "outputs": [
    {
     "name": "stdout",
     "output_type": "stream",
     "text": [
      "A previous checkpoint already exists, choose the action to perform \n",
      " \n",
      " 1) Overwrite the current model saved at cycleGAN_test/checkpoint \n",
      " 2) Start training a new model \n",
      " 3) Restore and continue training the previous model \n",
      " 1\n",
      "Overwriting existing model in cycleGAN_test\n",
      "Convolutional Network architecture detected\n",
      "Convolutional Network architecture detected\n",
      "Discriminator_A\n",
      "Convolution\n",
      "Input for convolution shape  (?, 256, 256, 3)\n",
      "(131072, 512)\n",
      "Logits shape (?, 1)\n",
      "Generator_A_to_B\n",
      "Input for deconvolution shape (?, 256, 256, 3)\n",
      "Deconvoluted output shape (?, 256, 256, 3)\n",
      "Discriminator_B\n",
      "Convolution\n",
      "Input for convolution shape  (?, 256, 256, 3)\n",
      "(131072, 512)\n",
      "Logits shape (?, 1)\n",
      "Generator_B_to_A\n",
      "Input for deconvolution shape (?, 256, 256, 3)\n",
      "Deconvoluted output shape (?, 256, 256, 3)\n",
      "Discriminator_A\n",
      "Convolution\n",
      "Input for convolution shape  (?, 256, 256, 3)\n",
      "(131072, 512)\n",
      "Logits shape (?, 1)\n",
      "Discriminator_B\n",
      "Convolution\n",
      "Input for convolution shape  (?, 256, 256, 3)\n",
      "(131072, 512)\n",
      "Logits shape (?, 1)\n",
      "Generator_A_to_B\n",
      "Input for deconvolution shape (?, 256, 256, 3)\n",
      "Deconvoluted output shape (?, 256, 256, 3)\n",
      "Generator_B_to_A\n",
      "Input for deconvolution shape (?, 256, 256, 3)\n",
      "Deconvoluted output shape (?, 256, 256, 3)\n",
      "Generator_A_to_B\n",
      "Input for deconvolution shape (?, 256, 256, 3)\n",
      "Deconvoluted output shape (?, 256, 256, 3)\n",
      "Generator_B_to_A\n",
      "Input for deconvolution shape (?, 256, 256, 3)\n",
      "Deconvoluted output shape (?, 256, 256, 3)\n",
      "\n",
      " Training...\n",
      "\n",
      " ****** \n",
      "\n",
      "Training cycle GAN with a total of 1067 samples distributed in batches of size 5\n",
      "\n",
      "The learning rate set for the generator is 0.0001 while for the discriminator is 0.0001, and every 5 epoch a generated sample will be saved to cycleGAN_test\n",
      "\n",
      " ****** \n",
      "\n",
      "Epoch: 0\n"
     ]
    },
    {
     "name": "stderr",
     "output_type": "stream",
     "text": [
      "Clipping input data to the valid range for imshow with RGB data ([0..1] for floats or [0..255] for integers).\n",
      "Clipping input data to the valid range for imshow with RGB data ([0..1] for floats or [0..255] for integers).\n"
     ]
    },
    {
     "name": "stdout",
     "output_type": "stream",
     "text": [
      "At iter: 5  -  dt: 0:00:00.665299 - d_acc_A: 0.40\n",
      "At iter: 5  -  dt: 0:00:00.665535 - d_acc_B: 0.50\n",
      "Discrimator_A cost 1.4213597774505615, Generator_A_to_B cost 18416.47265625\n",
      "Discrimator_B cost 1.390092134475708, Generator_B_to_A cost 21931.890625\n",
      "Saving a sample...\n"
     ]
    },
    {
     "name": "stderr",
     "output_type": "stream",
     "text": [
      "/home/ttp/davide/miniconda3/envs/deepnet/lib/python3.6/site-packages/matplotlib/cbook/deprecation.py:107: MatplotlibDeprecationWarning: Adding an axes using the same arguments as a previous axes currently reuses the earlier instance.  In a future version, a new instance will always be created and returned.  Meanwhile, this warning can be suppressed, and the future behavior ensured, by passing a unique label to each axes instance.\n",
      "  warnings.warn(message, mplDeprecation, stacklevel=1)\n",
      "Clipping input data to the valid range for imshow with RGB data ([0..1] for floats or [0..255] for integers).\n",
      "Clipping input data to the valid range for imshow with RGB data ([0..1] for floats or [0..255] for integers).\n"
     ]
    },
    {
     "name": "stdout",
     "output_type": "stream",
     "text": [
      "At iter: 10  -  dt: 0:00:00.668091 - d_acc_A: 0.70\n",
      "At iter: 10  -  dt: 0:00:00.668426 - d_acc_B: 0.60\n",
      "Discrimator_A cost 1.3912341594696045, Generator_A_to_B cost 17195.884765625\n",
      "Discrimator_B cost 1.404553771018982, Generator_B_to_A cost 13939.57421875\n",
      "Saving a sample...\n"
     ]
    },
    {
     "name": "stderr",
     "output_type": "stream",
     "text": [
      "Clipping input data to the valid range for imshow with RGB data ([0..1] for floats or [0..255] for integers).\n",
      "Clipping input data to the valid range for imshow with RGB data ([0..1] for floats or [0..255] for integers).\n"
     ]
    },
    {
     "name": "stdout",
     "output_type": "stream",
     "text": [
      "At iter: 15  -  dt: 0:00:00.667044 - d_acc_A: 0.40\n",
      "At iter: 15  -  dt: 0:00:00.667656 - d_acc_B: 0.40\n",
      "Discrimator_A cost 1.411107063293457, Generator_A_to_B cost 12358.853515625\n",
      "Discrimator_B cost 1.473095417022705, Generator_B_to_A cost 15622.90234375\n",
      "Saving a sample...\n"
     ]
    },
    {
     "name": "stderr",
     "output_type": "stream",
     "text": [
      "Clipping input data to the valid range for imshow with RGB data ([0..1] for floats or [0..255] for integers).\n",
      "Clipping input data to the valid range for imshow with RGB data ([0..1] for floats or [0..255] for integers).\n"
     ]
    },
    {
     "name": "stdout",
     "output_type": "stream",
     "text": [
      "At iter: 20  -  dt: 0:00:00.667136 - d_acc_A: 0.60\n",
      "At iter: 20  -  dt: 0:00:00.667477 - d_acc_B: 0.50\n",
      "Discrimator_A cost 1.3873059749603271, Generator_A_to_B cost 21503.4453125\n",
      "Discrimator_B cost 1.3908143043518066, Generator_B_to_A cost 13942.8505859375\n",
      "Saving a sample...\n"
     ]
    },
    {
     "name": "stderr",
     "output_type": "stream",
     "text": [
      "Clipping input data to the valid range for imshow with RGB data ([0..1] for floats or [0..255] for integers).\n",
      "Clipping input data to the valid range for imshow with RGB data ([0..1] for floats or [0..255] for integers).\n"
     ]
    },
    {
     "name": "stdout",
     "output_type": "stream",
     "text": [
      "At iter: 25  -  dt: 0:00:00.670895 - d_acc_A: 0.50\n",
      "At iter: 25  -  dt: 0:00:00.671160 - d_acc_B: 0.60\n",
      "Discrimator_A cost 1.3840601444244385, Generator_A_to_B cost 13125.560546875\n",
      "Discrimator_B cost 1.3896279335021973, Generator_B_to_A cost 10997.45703125\n",
      "Saving a sample...\n"
     ]
    },
    {
     "name": "stderr",
     "output_type": "stream",
     "text": [
      "Clipping input data to the valid range for imshow with RGB data ([0..1] for floats or [0..255] for integers).\n",
      "Clipping input data to the valid range for imshow with RGB data ([0..1] for floats or [0..255] for integers).\n"
     ]
    },
    {
     "name": "stdout",
     "output_type": "stream",
     "text": [
      "At iter: 30  -  dt: 0:00:00.665231 - d_acc_A: 0.30\n",
      "At iter: 30  -  dt: 0:00:00.665890 - d_acc_B: 0.30\n",
      "Discrimator_A cost 1.4212946891784668, Generator_A_to_B cost 16623.7578125\n",
      "Discrimator_B cost 1.3978191614151, Generator_B_to_A cost 13236.76171875\n",
      "Saving a sample...\n"
     ]
    },
    {
     "name": "stderr",
     "output_type": "stream",
     "text": [
      "Clipping input data to the valid range for imshow with RGB data ([0..1] for floats or [0..255] for integers).\n",
      "Clipping input data to the valid range for imshow with RGB data ([0..1] for floats or [0..255] for integers).\n"
     ]
    },
    {
     "name": "stdout",
     "output_type": "stream",
     "text": [
      "At iter: 35  -  dt: 0:00:00.668740 - d_acc_A: 0.40\n",
      "At iter: 35  -  dt: 0:00:00.669005 - d_acc_B: 0.70\n",
      "Discrimator_A cost 1.4102773666381836, Generator_A_to_B cost 13178.6953125\n",
      "Discrimator_B cost 1.3890438079833984, Generator_B_to_A cost 11576.6083984375\n",
      "Saving a sample...\n"
     ]
    },
    {
     "name": "stderr",
     "output_type": "stream",
     "text": [
      "Clipping input data to the valid range for imshow with RGB data ([0..1] for floats or [0..255] for integers).\n",
      "Clipping input data to the valid range for imshow with RGB data ([0..1] for floats or [0..255] for integers).\n"
     ]
    },
    {
     "name": "stdout",
     "output_type": "stream",
     "text": [
      "At iter: 40  -  dt: 0:00:00.671446 - d_acc_A: 0.60\n",
      "At iter: 40  -  dt: 0:00:00.671546 - d_acc_B: 0.60\n",
      "Discrimator_A cost 1.3953773975372314, Generator_A_to_B cost 7256.8544921875\n",
      "Discrimator_B cost 1.3765560388565063, Generator_B_to_A cost 17493.626953125\n",
      "Saving a sample...\n"
     ]
    },
    {
     "name": "stderr",
     "output_type": "stream",
     "text": [
      "Clipping input data to the valid range for imshow with RGB data ([0..1] for floats or [0..255] for integers).\n",
      "Clipping input data to the valid range for imshow with RGB data ([0..1] for floats or [0..255] for integers).\n"
     ]
    },
    {
     "name": "stdout",
     "output_type": "stream",
     "text": [
      "At iter: 45  -  dt: 0:00:00.668773 - d_acc_A: 0.50\n",
      "At iter: 45  -  dt: 0:00:00.669024 - d_acc_B: 0.30\n",
      "Discrimator_A cost 1.39152193069458, Generator_A_to_B cost 10303.091796875\n",
      "Discrimator_B cost 1.3983123302459717, Generator_B_to_A cost 13912.373046875\n",
      "Saving a sample...\n"
     ]
    },
    {
     "name": "stderr",
     "output_type": "stream",
     "text": [
      "Clipping input data to the valid range for imshow with RGB data ([0..1] for floats or [0..255] for integers).\n",
      "Clipping input data to the valid range for imshow with RGB data ([0..1] for floats or [0..255] for integers).\n"
     ]
    },
    {
     "name": "stdout",
     "output_type": "stream",
     "text": [
      "At iter: 50  -  dt: 0:00:00.667421 - d_acc_A: 0.70\n",
      "At iter: 50  -  dt: 0:00:00.667674 - d_acc_B: 0.60\n",
      "Discrimator_A cost 1.3770256042480469, Generator_A_to_B cost 10160.6279296875\n",
      "Discrimator_B cost 1.3868589401245117, Generator_B_to_A cost 12830.8212890625\n",
      "Saving a sample...\n"
     ]
    },
    {
     "name": "stderr",
     "output_type": "stream",
     "text": [
      "Clipping input data to the valid range for imshow with RGB data ([0..1] for floats or [0..255] for integers).\n",
      "Clipping input data to the valid range for imshow with RGB data ([0..1] for floats or [0..255] for integers).\n"
     ]
    },
    {
     "name": "stdout",
     "output_type": "stream",
     "text": [
      "At iter: 55  -  dt: 0:00:00.668819 - d_acc_A: 0.60\n",
      "At iter: 55  -  dt: 0:00:00.670109 - d_acc_B: 0.50\n",
      "Discrimator_A cost 1.3901417255401611, Generator_A_to_B cost 8477.8125\n",
      "Discrimator_B cost 1.3985048532485962, Generator_B_to_A cost 12900.095703125\n",
      "Saving a sample...\n"
     ]
    },
    {
     "name": "stderr",
     "output_type": "stream",
     "text": [
      "Clipping input data to the valid range for imshow with RGB data ([0..1] for floats or [0..255] for integers).\n",
      "Clipping input data to the valid range for imshow with RGB data ([0..1] for floats or [0..255] for integers).\n"
     ]
    },
    {
     "name": "stdout",
     "output_type": "stream",
     "text": [
      "At iter: 60  -  dt: 0:00:00.666336 - d_acc_A: 0.60\n",
      "At iter: 60  -  dt: 0:00:00.666556 - d_acc_B: 0.50\n",
      "Discrimator_A cost 1.400327205657959, Generator_A_to_B cost 6573.544921875\n",
      "Discrimator_B cost 1.418046474456787, Generator_B_to_A cost 15162.35546875\n",
      "Saving a sample...\n"
     ]
    },
    {
     "name": "stderr",
     "output_type": "stream",
     "text": [
      "Clipping input data to the valid range for imshow with RGB data ([0..1] for floats or [0..255] for integers).\n",
      "Clipping input data to the valid range for imshow with RGB data ([0..1] for floats or [0..255] for integers).\n"
     ]
    },
    {
     "name": "stdout",
     "output_type": "stream",
     "text": [
      "At iter: 65  -  dt: 0:00:00.670446 - d_acc_A: 0.60\n",
      "At iter: 65  -  dt: 0:00:00.671724 - d_acc_B: 0.40\n",
      "Discrimator_A cost 1.400189995765686, Generator_A_to_B cost 7031.015625\n",
      "Discrimator_B cost 1.4078296422958374, Generator_B_to_A cost 15291.810546875\n",
      "Saving a sample...\n"
     ]
    },
    {
     "name": "stderr",
     "output_type": "stream",
     "text": [
      "Clipping input data to the valid range for imshow with RGB data ([0..1] for floats or [0..255] for integers).\n",
      "Clipping input data to the valid range for imshow with RGB data ([0..1] for floats or [0..255] for integers).\n"
     ]
    },
    {
     "name": "stdout",
     "output_type": "stream",
     "text": [
      "At iter: 70  -  dt: 0:00:00.665157 - d_acc_A: 0.50\n",
      "At iter: 70  -  dt: 0:00:00.665388 - d_acc_B: 0.50\n",
      "Discrimator_A cost 1.4057482481002808, Generator_A_to_B cost 10467.3935546875\n",
      "Discrimator_B cost 1.3935259580612183, Generator_B_to_A cost 12291.654296875\n",
      "Saving a sample...\n"
     ]
    },
    {
     "name": "stderr",
     "output_type": "stream",
     "text": [
      "Clipping input data to the valid range for imshow with RGB data ([0..1] for floats or [0..255] for integers).\n",
      "Clipping input data to the valid range for imshow with RGB data ([0..1] for floats or [0..255] for integers).\n"
     ]
    },
    {
     "name": "stdout",
     "output_type": "stream",
     "text": [
      "At iter: 75  -  dt: 0:00:00.670475 - d_acc_A: 0.40\n",
      "At iter: 75  -  dt: 0:00:00.670701 - d_acc_B: 0.50\n",
      "Discrimator_A cost 1.4199355840682983, Generator_A_to_B cost 8411.4140625\n",
      "Discrimator_B cost 1.4028087854385376, Generator_B_to_A cost 15152.03125\n",
      "Saving a sample...\n"
     ]
    },
    {
     "name": "stderr",
     "output_type": "stream",
     "text": [
      "Clipping input data to the valid range for imshow with RGB data ([0..1] for floats or [0..255] for integers).\n",
      "Clipping input data to the valid range for imshow with RGB data ([0..1] for floats or [0..255] for integers).\n"
     ]
    },
    {
     "name": "stdout",
     "output_type": "stream",
     "text": [
      "At iter: 80  -  dt: 0:00:00.668012 - d_acc_A: 0.70\n",
      "At iter: 80  -  dt: 0:00:00.668247 - d_acc_B: 0.40\n",
      "Discrimator_A cost 1.3869448900222778, Generator_A_to_B cost 8466.90625\n",
      "Discrimator_B cost 1.3947834968566895, Generator_B_to_A cost 13235.92578125\n",
      "Saving a sample...\n"
     ]
    },
    {
     "name": "stderr",
     "output_type": "stream",
     "text": [
      "Clipping input data to the valid range for imshow with RGB data ([0..1] for floats or [0..255] for integers).\n",
      "Clipping input data to the valid range for imshow with RGB data ([0..1] for floats or [0..255] for integers).\n"
     ]
    },
    {
     "name": "stdout",
     "output_type": "stream",
     "text": [
      "At iter: 85  -  dt: 0:00:00.665415 - d_acc_A: 0.60\n",
      "At iter: 85  -  dt: 0:00:00.665507 - d_acc_B: 0.40\n",
      "Discrimator_A cost 1.3945329189300537, Generator_A_to_B cost 8686.619140625\n",
      "Discrimator_B cost 1.4047856330871582, Generator_B_to_A cost 15006.3525390625\n",
      "Saving a sample...\n"
     ]
    },
    {
     "name": "stderr",
     "output_type": "stream",
     "text": [
      "Clipping input data to the valid range for imshow with RGB data ([0..1] for floats or [0..255] for integers).\n",
      "Clipping input data to the valid range for imshow with RGB data ([0..1] for floats or [0..255] for integers).\n"
     ]
    },
    {
     "name": "stdout",
     "output_type": "stream",
     "text": [
      "At iter: 90  -  dt: 0:00:00.672736 - d_acc_A: 0.50\n",
      "At iter: 90  -  dt: 0:00:00.673509 - d_acc_B: 0.70\n",
      "Discrimator_A cost 1.398890733718872, Generator_A_to_B cost 8219.013671875\n",
      "Discrimator_B cost 1.3829607963562012, Generator_B_to_A cost 15051.404296875\n",
      "Saving a sample...\n"
     ]
    },
    {
     "name": "stderr",
     "output_type": "stream",
     "text": [
      "Clipping input data to the valid range for imshow with RGB data ([0..1] for floats or [0..255] for integers).\n",
      "Clipping input data to the valid range for imshow with RGB data ([0..1] for floats or [0..255] for integers).\n"
     ]
    },
    {
     "name": "stdout",
     "output_type": "stream",
     "text": [
      "At iter: 95  -  dt: 0:00:00.670500 - d_acc_A: 0.40\n",
      "At iter: 95  -  dt: 0:00:00.671033 - d_acc_B: 0.50\n",
      "Discrimator_A cost 1.4007319211959839, Generator_A_to_B cost 8119.75341796875\n",
      "Discrimator_B cost 1.3880388736724854, Generator_B_to_A cost 13120.427734375\n",
      "Saving a sample...\n"
     ]
    },
    {
     "name": "stderr",
     "output_type": "stream",
     "text": [
      "Clipping input data to the valid range for imshow with RGB data ([0..1] for floats or [0..255] for integers).\n",
      "Clipping input data to the valid range for imshow with RGB data ([0..1] for floats or [0..255] for integers).\n"
     ]
    },
    {
     "name": "stdout",
     "output_type": "stream",
     "text": [
      "At iter: 100  -  dt: 0:00:00.668132 - d_acc_A: 0.50\n",
      "At iter: 100  -  dt: 0:00:00.668364 - d_acc_B: 0.60\n",
      "Discrimator_A cost 1.4010170698165894, Generator_A_to_B cost 8031.6455078125\n",
      "Discrimator_B cost 1.39821195602417, Generator_B_to_A cost 12731.6484375\n",
      "Saving a sample...\n"
     ]
    },
    {
     "name": "stderr",
     "output_type": "stream",
     "text": [
      "Clipping input data to the valid range for imshow with RGB data ([0..1] for floats or [0..255] for integers).\n",
      "Clipping input data to the valid range for imshow with RGB data ([0..1] for floats or [0..255] for integers).\n"
     ]
    },
    {
     "name": "stdout",
     "output_type": "stream",
     "text": [
      "At iter: 105  -  dt: 0:00:00.668793 - d_acc_A: 0.60\n",
      "At iter: 105  -  dt: 0:00:00.669348 - d_acc_B: 0.60\n",
      "Discrimator_A cost 1.3758453130722046, Generator_A_to_B cost 7063.5009765625\n",
      "Discrimator_B cost 1.3935494422912598, Generator_B_to_A cost 13843.9375\n",
      "Saving a sample...\n"
     ]
    },
    {
     "name": "stderr",
     "output_type": "stream",
     "text": [
      "Clipping input data to the valid range for imshow with RGB data ([0..1] for floats or [0..255] for integers).\n",
      "Clipping input data to the valid range for imshow with RGB data ([0..1] for floats or [0..255] for integers).\n"
     ]
    },
    {
     "name": "stdout",
     "output_type": "stream",
     "text": [
      "At iter: 110  -  dt: 0:00:00.665014 - d_acc_A: 0.60\n",
      "At iter: 110  -  dt: 0:00:00.665254 - d_acc_B: 0.60\n",
      "Discrimator_A cost 1.3738117218017578, Generator_A_to_B cost 7808.14453125\n",
      "Discrimator_B cost 1.3923685550689697, Generator_B_to_A cost 14098.1376953125\n",
      "Saving a sample...\n"
     ]
    },
    {
     "name": "stderr",
     "output_type": "stream",
     "text": [
      "Clipping input data to the valid range for imshow with RGB data ([0..1] for floats or [0..255] for integers).\n",
      "Clipping input data to the valid range for imshow with RGB data ([0..1] for floats or [0..255] for integers).\n"
     ]
    },
    {
     "name": "stdout",
     "output_type": "stream",
     "text": [
      "At iter: 115  -  dt: 0:00:00.668352 - d_acc_A: 0.60\n",
      "At iter: 115  -  dt: 0:00:00.668455 - d_acc_B: 0.60\n",
      "Discrimator_A cost 1.3783869743347168, Generator_A_to_B cost 7486.955078125\n",
      "Discrimator_B cost 1.3867645263671875, Generator_B_to_A cost 12569.41015625\n",
      "Saving a sample...\n"
     ]
    },
    {
     "name": "stderr",
     "output_type": "stream",
     "text": [
      "Clipping input data to the valid range for imshow with RGB data ([0..1] for floats or [0..255] for integers).\n",
      "Clipping input data to the valid range for imshow with RGB data ([0..1] for floats or [0..255] for integers).\n"
     ]
    },
    {
     "name": "stdout",
     "output_type": "stream",
     "text": [
      "At iter: 120  -  dt: 0:00:00.671738 - d_acc_A: 0.70\n",
      "At iter: 120  -  dt: 0:00:00.671990 - d_acc_B: 0.50\n",
      "Discrimator_A cost 1.3910168409347534, Generator_A_to_B cost 7416.9462890625\n",
      "Discrimator_B cost 1.39182448387146, Generator_B_to_A cost 11214.611328125\n",
      "Saving a sample...\n"
     ]
    },
    {
     "name": "stderr",
     "output_type": "stream",
     "text": [
      "Clipping input data to the valid range for imshow with RGB data ([0..1] for floats or [0..255] for integers).\n",
      "Clipping input data to the valid range for imshow with RGB data ([0..1] for floats or [0..255] for integers).\n"
     ]
    },
    {
     "name": "stdout",
     "output_type": "stream",
     "text": [
      "At iter: 125  -  dt: 0:00:00.664861 - d_acc_A: 0.60\n",
      "At iter: 125  -  dt: 0:00:00.665144 - d_acc_B: 0.50\n",
      "Discrimator_A cost 1.394951343536377, Generator_A_to_B cost 8868.123046875\n",
      "Discrimator_B cost 1.3903248310089111, Generator_B_to_A cost 10773.712890625\n",
      "Saving a sample...\n"
     ]
    },
    {
     "name": "stderr",
     "output_type": "stream",
     "text": [
      "Clipping input data to the valid range for imshow with RGB data ([0..1] for floats or [0..255] for integers).\n",
      "Clipping input data to the valid range for imshow with RGB data ([0..1] for floats or [0..255] for integers).\n"
     ]
    },
    {
     "name": "stdout",
     "output_type": "stream",
     "text": [
      "At iter: 130  -  dt: 0:00:00.667627 - d_acc_A: 0.40\n",
      "At iter: 130  -  dt: 0:00:00.667857 - d_acc_B: 0.40\n",
      "Discrimator_A cost 1.3953027725219727, Generator_A_to_B cost 7787.2841796875\n",
      "Discrimator_B cost 1.3863779306411743, Generator_B_to_A cost 12560.041015625\n",
      "Saving a sample...\n"
     ]
    },
    {
     "name": "stderr",
     "output_type": "stream",
     "text": [
      "Clipping input data to the valid range for imshow with RGB data ([0..1] for floats or [0..255] for integers).\n",
      "Clipping input data to the valid range for imshow with RGB data ([0..1] for floats or [0..255] for integers).\n"
     ]
    },
    {
     "name": "stdout",
     "output_type": "stream",
     "text": [
      "At iter: 135  -  dt: 0:00:00.666569 - d_acc_A: 0.50\n",
      "At iter: 135  -  dt: 0:00:00.666782 - d_acc_B: 0.60\n",
      "Discrimator_A cost 1.3848443031311035, Generator_A_to_B cost 8297.255859375\n",
      "Discrimator_B cost 1.3829965591430664, Generator_B_to_A cost 12524.990234375\n",
      "Saving a sample...\n"
     ]
    },
    {
     "name": "stderr",
     "output_type": "stream",
     "text": [
      "Clipping input data to the valid range for imshow with RGB data ([0..1] for floats or [0..255] for integers).\n",
      "Clipping input data to the valid range for imshow with RGB data ([0..1] for floats or [0..255] for integers).\n"
     ]
    },
    {
     "name": "stdout",
     "output_type": "stream",
     "text": [
      "At iter: 140  -  dt: 0:00:00.666212 - d_acc_A: 0.40\n",
      "At iter: 140  -  dt: 0:00:00.666788 - d_acc_B: 0.50\n",
      "Discrimator_A cost 1.3942270278930664, Generator_A_to_B cost 7971.46435546875\n",
      "Discrimator_B cost 1.3878065347671509, Generator_B_to_A cost 9430.525390625\n",
      "Saving a sample...\n"
     ]
    },
    {
     "name": "stderr",
     "output_type": "stream",
     "text": [
      "Clipping input data to the valid range for imshow with RGB data ([0..1] for floats or [0..255] for integers).\n"
     ]
    },
    {
     "name": "stdout",
     "output_type": "stream",
     "text": [
      "At iter: 145  -  dt: 0:00:00.665157 - d_acc_A: 0.50\n",
      "At iter: 145  -  dt: 0:00:00.665390 - d_acc_B: 0.50\n",
      "Discrimator_A cost 1.3923184871673584, Generator_A_to_B cost 9764.267578125\n",
      "Discrimator_B cost 1.3927913904190063, Generator_B_to_A cost 9731.8173828125\n",
      "Saving a sample...\n"
     ]
    },
    {
     "ename": "KeyboardInterrupt",
     "evalue": "",
     "output_type": "error",
     "traceback": [
      "\u001b[0;31m---------------------------------------------------------------------------\u001b[0m",
      "\u001b[0;31mKeyboardInterrupt\u001b[0m                         Traceback (most recent call last)",
      "\u001b[0;32m<ipython-input-6-2c921d2d8464>\u001b[0m in \u001b[0;36m<module>\u001b[0;34m()\u001b[0m\n\u001b[1;32m     24\u001b[0m                     \u001b[0mos\u001b[0m\u001b[0;34m.\u001b[0m\u001b[0mmkdir\u001b[0m\u001b[0;34m(\u001b[0m\u001b[0mPATH\u001b[0m\u001b[0;34m)\u001b[0m\u001b[0;34m\u001b[0m\u001b[0m\n\u001b[1;32m     25\u001b[0m \u001b[0;34m\u001b[0m\u001b[0m\n\u001b[0;32m---> 26\u001b[0;31m         \u001b[0mHorse2Zebra\u001b[0m\u001b[0;34m(\u001b[0m\u001b[0;34m)\u001b[0m\u001b[0;34m\u001b[0m\u001b[0m\n\u001b[0m\u001b[1;32m     27\u001b[0m \u001b[0;34m\u001b[0m\u001b[0m\n\u001b[1;32m     28\u001b[0m     \u001b[0;32melif\u001b[0m \u001b[0mtask\u001b[0m \u001b[0;34m==\u001b[0m \u001b[0;34m'TEST'\u001b[0m\u001b[0;34m:\u001b[0m\u001b[0;34m\u001b[0m\u001b[0m\n",
      "\u001b[0;32m<ipython-input-5-a05c0102052d>\u001b[0m in \u001b[0;36mHorse2Zebra\u001b[0;34m()\u001b[0m\n\u001b[1;32m     60\u001b[0m \u001b[0;34m\u001b[0m\u001b[0m\n\u001b[1;32m     61\u001b[0m             \u001b[0mgan\u001b[0m\u001b[0;34m.\u001b[0m\u001b[0mset_session\u001b[0m\u001b[0;34m(\u001b[0m\u001b[0msess\u001b[0m\u001b[0;34m)\u001b[0m\u001b[0;34m\u001b[0m\u001b[0m\n\u001b[0;32m---> 62\u001b[0;31m             \u001b[0mgan\u001b[0m\u001b[0;34m.\u001b[0m\u001b[0mfit\u001b[0m\u001b[0;34m(\u001b[0m\u001b[0mX_train_A\u001b[0m\u001b[0;34m,\u001b[0m \u001b[0mX_train_B\u001b[0m\u001b[0;34m)\u001b[0m\u001b[0;34m\u001b[0m\u001b[0m\n\u001b[0m\u001b[1;32m     63\u001b[0m \u001b[0;34m\u001b[0m\u001b[0m\n\u001b[1;32m     64\u001b[0m             \u001b[0msave_path\u001b[0m \u001b[0;34m=\u001b[0m \u001b[0msaver\u001b[0m\u001b[0;34m.\u001b[0m\u001b[0msave\u001b[0m\u001b[0;34m(\u001b[0m\u001b[0msess\u001b[0m\u001b[0;34m,\u001b[0m \u001b[0mPATH\u001b[0m\u001b[0;34m+\u001b[0m\u001b[0;34m'/'\u001b[0m\u001b[0;34m+\u001b[0m\u001b[0mPATH\u001b[0m\u001b[0;34m+\u001b[0m\u001b[0;34m'.ckpt'\u001b[0m\u001b[0;34m)\u001b[0m\u001b[0;34m\u001b[0m\u001b[0m\n",
      "\u001b[0;32m~/NN_toolkit/architectures/cycleGAN.py\u001b[0m in \u001b[0;36mfit\u001b[0;34m(self, X_A, X_B)\u001b[0m\n\u001b[1;32m    406\u001b[0m                 _, g_cost_A2, fake_images_B_temp =  self.session.run(\n\u001b[1;32m    407\u001b[0m                     \u001b[0;34m(\u001b[0m\u001b[0mself\u001b[0m\u001b[0;34m.\u001b[0m\u001b[0mg_train_op_A\u001b[0m\u001b[0;34m,\u001b[0m \u001b[0mself\u001b[0m\u001b[0;34m.\u001b[0m\u001b[0mg_cost_A\u001b[0m\u001b[0;34m,\u001b[0m \u001b[0mself\u001b[0m\u001b[0;34m.\u001b[0m\u001b[0msample_images_B\u001b[0m\u001b[0;34m)\u001b[0m\u001b[0;34m,\u001b[0m\u001b[0;34m\u001b[0m\u001b[0m\n\u001b[0;32m--> 408\u001b[0;31m                     \u001b[0mfeed_dict\u001b[0m\u001b[0;34m=\u001b[0m\u001b[0;34m{\u001b[0m\u001b[0mself\u001b[0m\u001b[0;34m.\u001b[0m\u001b[0minput_A\u001b[0m\u001b[0;34m:\u001b[0m\u001b[0mX_batch_A\u001b[0m\u001b[0;34m,\u001b[0m \u001b[0mself\u001b[0m\u001b[0;34m.\u001b[0m\u001b[0minput_B\u001b[0m\u001b[0;34m:\u001b[0m\u001b[0mX_batch_B\u001b[0m\u001b[0;34m,\u001b[0m \u001b[0mself\u001b[0m\u001b[0;34m.\u001b[0m\u001b[0mbatch_sz\u001b[0m\u001b[0;34m:\u001b[0m\u001b[0mself\u001b[0m\u001b[0;34m.\u001b[0m\u001b[0mbatch_size\u001b[0m\u001b[0;34m}\u001b[0m\u001b[0;34m,\u001b[0m\u001b[0;34m\u001b[0m\u001b[0m\n\u001b[0m\u001b[1;32m    409\u001b[0m                 )\n\u001b[1;32m    410\u001b[0m                 \u001b[0mg_cost_A\u001b[0m \u001b[0;34m=\u001b[0m \u001b[0;34m(\u001b[0m\u001b[0mg_cost_A1\u001b[0m\u001b[0;34m+\u001b[0m\u001b[0mg_cost_A2\u001b[0m\u001b[0;34m)\u001b[0m\u001b[0;34m/\u001b[0m\u001b[0;36m2\u001b[0m\u001b[0;34m\u001b[0m\u001b[0m\n",
      "\u001b[0;32m~/miniconda3/envs/deepnet/lib/python3.6/site-packages/tensorflow/python/client/session.py\u001b[0m in \u001b[0;36mrun\u001b[0;34m(self, fetches, feed_dict, options, run_metadata)\u001b[0m\n\u001b[1;32m    887\u001b[0m     \u001b[0;32mtry\u001b[0m\u001b[0;34m:\u001b[0m\u001b[0;34m\u001b[0m\u001b[0m\n\u001b[1;32m    888\u001b[0m       result = self._run(None, fetches, feed_dict, options_ptr,\n\u001b[0;32m--> 889\u001b[0;31m                          run_metadata_ptr)\n\u001b[0m\u001b[1;32m    890\u001b[0m       \u001b[0;32mif\u001b[0m \u001b[0mrun_metadata\u001b[0m\u001b[0;34m:\u001b[0m\u001b[0;34m\u001b[0m\u001b[0m\n\u001b[1;32m    891\u001b[0m         \u001b[0mproto_data\u001b[0m \u001b[0;34m=\u001b[0m \u001b[0mtf_session\u001b[0m\u001b[0;34m.\u001b[0m\u001b[0mTF_GetBuffer\u001b[0m\u001b[0;34m(\u001b[0m\u001b[0mrun_metadata_ptr\u001b[0m\u001b[0;34m)\u001b[0m\u001b[0;34m\u001b[0m\u001b[0m\n",
      "\u001b[0;32m~/miniconda3/envs/deepnet/lib/python3.6/site-packages/tensorflow/python/client/session.py\u001b[0m in \u001b[0;36m_run\u001b[0;34m(self, handle, fetches, feed_dict, options, run_metadata)\u001b[0m\n\u001b[1;32m   1118\u001b[0m     \u001b[0;32mif\u001b[0m \u001b[0mfinal_fetches\u001b[0m \u001b[0;32mor\u001b[0m \u001b[0mfinal_targets\u001b[0m \u001b[0;32mor\u001b[0m \u001b[0;34m(\u001b[0m\u001b[0mhandle\u001b[0m \u001b[0;32mand\u001b[0m \u001b[0mfeed_dict_tensor\u001b[0m\u001b[0;34m)\u001b[0m\u001b[0;34m:\u001b[0m\u001b[0;34m\u001b[0m\u001b[0m\n\u001b[1;32m   1119\u001b[0m       results = self._do_run(handle, final_targets, final_fetches,\n\u001b[0;32m-> 1120\u001b[0;31m                              feed_dict_tensor, options, run_metadata)\n\u001b[0m\u001b[1;32m   1121\u001b[0m     \u001b[0;32melse\u001b[0m\u001b[0;34m:\u001b[0m\u001b[0;34m\u001b[0m\u001b[0m\n\u001b[1;32m   1122\u001b[0m       \u001b[0mresults\u001b[0m \u001b[0;34m=\u001b[0m \u001b[0;34m[\u001b[0m\u001b[0;34m]\u001b[0m\u001b[0;34m\u001b[0m\u001b[0m\n",
      "\u001b[0;32m~/miniconda3/envs/deepnet/lib/python3.6/site-packages/tensorflow/python/client/session.py\u001b[0m in \u001b[0;36m_do_run\u001b[0;34m(self, handle, target_list, fetch_list, feed_dict, options, run_metadata)\u001b[0m\n\u001b[1;32m   1315\u001b[0m     \u001b[0;32mif\u001b[0m \u001b[0mhandle\u001b[0m \u001b[0;32mis\u001b[0m \u001b[0;32mNone\u001b[0m\u001b[0;34m:\u001b[0m\u001b[0;34m\u001b[0m\u001b[0m\n\u001b[1;32m   1316\u001b[0m       return self._do_call(_run_fn, self._session, feeds, fetches, targets,\n\u001b[0;32m-> 1317\u001b[0;31m                            options, run_metadata)\n\u001b[0m\u001b[1;32m   1318\u001b[0m     \u001b[0;32melse\u001b[0m\u001b[0;34m:\u001b[0m\u001b[0;34m\u001b[0m\u001b[0m\n\u001b[1;32m   1319\u001b[0m       \u001b[0;32mreturn\u001b[0m \u001b[0mself\u001b[0m\u001b[0;34m.\u001b[0m\u001b[0m_do_call\u001b[0m\u001b[0;34m(\u001b[0m\u001b[0m_prun_fn\u001b[0m\u001b[0;34m,\u001b[0m \u001b[0mself\u001b[0m\u001b[0;34m.\u001b[0m\u001b[0m_session\u001b[0m\u001b[0;34m,\u001b[0m \u001b[0mhandle\u001b[0m\u001b[0;34m,\u001b[0m \u001b[0mfeeds\u001b[0m\u001b[0;34m,\u001b[0m \u001b[0mfetches\u001b[0m\u001b[0;34m)\u001b[0m\u001b[0;34m\u001b[0m\u001b[0m\n",
      "\u001b[0;32m~/miniconda3/envs/deepnet/lib/python3.6/site-packages/tensorflow/python/client/session.py\u001b[0m in \u001b[0;36m_do_call\u001b[0;34m(self, fn, *args)\u001b[0m\n\u001b[1;32m   1321\u001b[0m   \u001b[0;32mdef\u001b[0m \u001b[0m_do_call\u001b[0m\u001b[0;34m(\u001b[0m\u001b[0mself\u001b[0m\u001b[0;34m,\u001b[0m \u001b[0mfn\u001b[0m\u001b[0;34m,\u001b[0m \u001b[0;34m*\u001b[0m\u001b[0margs\u001b[0m\u001b[0;34m)\u001b[0m\u001b[0;34m:\u001b[0m\u001b[0;34m\u001b[0m\u001b[0m\n\u001b[1;32m   1322\u001b[0m     \u001b[0;32mtry\u001b[0m\u001b[0;34m:\u001b[0m\u001b[0;34m\u001b[0m\u001b[0m\n\u001b[0;32m-> 1323\u001b[0;31m       \u001b[0;32mreturn\u001b[0m \u001b[0mfn\u001b[0m\u001b[0;34m(\u001b[0m\u001b[0;34m*\u001b[0m\u001b[0margs\u001b[0m\u001b[0;34m)\u001b[0m\u001b[0;34m\u001b[0m\u001b[0m\n\u001b[0m\u001b[1;32m   1324\u001b[0m     \u001b[0;32mexcept\u001b[0m \u001b[0merrors\u001b[0m\u001b[0;34m.\u001b[0m\u001b[0mOpError\u001b[0m \u001b[0;32mas\u001b[0m \u001b[0me\u001b[0m\u001b[0;34m:\u001b[0m\u001b[0;34m\u001b[0m\u001b[0m\n\u001b[1;32m   1325\u001b[0m       \u001b[0mmessage\u001b[0m \u001b[0;34m=\u001b[0m \u001b[0mcompat\u001b[0m\u001b[0;34m.\u001b[0m\u001b[0mas_text\u001b[0m\u001b[0;34m(\u001b[0m\u001b[0me\u001b[0m\u001b[0;34m.\u001b[0m\u001b[0mmessage\u001b[0m\u001b[0;34m)\u001b[0m\u001b[0;34m\u001b[0m\u001b[0m\n",
      "\u001b[0;32m~/miniconda3/envs/deepnet/lib/python3.6/site-packages/tensorflow/python/client/session.py\u001b[0m in \u001b[0;36m_run_fn\u001b[0;34m(session, feed_dict, fetch_list, target_list, options, run_metadata)\u001b[0m\n\u001b[1;32m   1300\u001b[0m           return tf_session.TF_Run(session, options,\n\u001b[1;32m   1301\u001b[0m                                    \u001b[0mfeed_dict\u001b[0m\u001b[0;34m,\u001b[0m \u001b[0mfetch_list\u001b[0m\u001b[0;34m,\u001b[0m \u001b[0mtarget_list\u001b[0m\u001b[0;34m,\u001b[0m\u001b[0;34m\u001b[0m\u001b[0m\n\u001b[0;32m-> 1302\u001b[0;31m                                    status, run_metadata)\n\u001b[0m\u001b[1;32m   1303\u001b[0m \u001b[0;34m\u001b[0m\u001b[0m\n\u001b[1;32m   1304\u001b[0m     \u001b[0;32mdef\u001b[0m \u001b[0m_prun_fn\u001b[0m\u001b[0;34m(\u001b[0m\u001b[0msession\u001b[0m\u001b[0;34m,\u001b[0m \u001b[0mhandle\u001b[0m\u001b[0;34m,\u001b[0m \u001b[0mfeed_dict\u001b[0m\u001b[0;34m,\u001b[0m \u001b[0mfetch_list\u001b[0m\u001b[0;34m)\u001b[0m\u001b[0;34m:\u001b[0m\u001b[0;34m\u001b[0m\u001b[0m\n",
      "\u001b[0;31mKeyboardInterrupt\u001b[0m: "
     ]
    },
    {
     "data": {
      "image/png": "[encoded data removed]",
      "text/plain": [
       "<Figure size 360x576 with 2 Axes>"
      ]
     },
     "metadata": {},
     "output_type": "display_data"
    }
   ],
   "source": [
    "if __name__=='__main__':\n",
    "\n",
    "    if task == 'TRAIN':\n",
    "        if not os.path.exists(PATH):\n",
    "            os.mkdir(PATH)\n",
    "    \n",
    "        elif os.path.exists(PATH):\n",
    "            if os.path.exists(PATH+'/checkpoint'):\n",
    "                ans = input('A previous checkpoint already exists, choose the action to perform \\n \\n 1) Overwrite the current model saved at '+PATH+'/checkpoint \\n 2) Start training a new model \\n 3) Restore and continue training the previous model \\n ')\n",
    "                \n",
    "                if ans == '1':\n",
    "                    print('Overwriting existing model in '+PATH)\n",
    "                    for file in os.listdir(PATH):\n",
    "                        file_path = os.path.join(PATH, file)\n",
    "                        try:\n",
    "                            if os.path.isfile(file_path):\n",
    "                                os.unlink(file_path)\n",
    "                            #elif os.path.isdir(file_path): shutil.rmtree(file_path)\n",
    "                        except Exception as e:\n",
    "                            print(e)\n",
    "                            \n",
    "                elif ans == '2':\n",
    "                    PATH = input('Specify the name of the model, a new directory will be created.\\n')\n",
    "                    os.mkdir(PATH)    \n",
    "        \n",
    "        Horse2Zebra()\n",
    "   \n",
    "    elif task == 'TEST': \n",
    "        if not os.path.exists(PATH+'/checkpoint'):\n",
    "            print('No checkpoint to test')\n",
    "        else:\n",
    "            Horse2Zebra()"
   ]
  },
  {
   "cell_type": "code",
   "execution_count": null,
   "metadata": {},
   "outputs": [],
   "source": [
    "    train_A = np.array(\n",
    "    [plt.imread(\"horse2zebra/trainA/\"+filename) for filename in os.listdir(\"horse2zebra/trainA\")]\n",
    "    )\n",
    "    \n",
    "    train_B = np.array(\n",
    "    [plt.imread(\"horse2zebra/trainB/\"+filename) for filename in os.listdir(\"horse2zebra/trainB\")]\n",
    "    )\n",
    "    \n",
    "    m = np.minimum(train_A.shape[0],train_B.shape[0])\n",
    "    \n",
    "    _, n_H, n_W, n_C = train_A.shape\n",
    "    "
   ]
  },
  {
   "cell_type": "code",
   "execution_count": null,
   "metadata": {},
   "outputs": [],
   "source": [
    "    X_train_A = train_A[0:m]\n",
    "    X_train_B = train_B[0:m]\n",
    "    \n",
    "    train_A=train_A.astype(np.float32)\n",
    "    mean_A=np.mean(train_A,axis=0)\n",
    "    train_A-=mean_A\n",
    "    std_A=np.std(train_A,axis=0)\n",
    "    train_A/=std_A\n",
    "    \n",
    "    train_B=train_B.astype(np.float32)\n",
    "    mean_B=np.mean(train_B,axis=0)\n",
    "    train_B-=mean_B\n",
    "    std_B=np.std(train_B,axis=0)\n",
    "    train_B/=std_B"
   ]
  },
  {
   "cell_type": "code",
   "execution_count": null,
   "metadata": {},
   "outputs": [],
   "source": [
    "plt.imshow((train_A[0]*std_A+mean_A).astype(np.int32))"
   ]
  },
  {
   "cell_type": "code",
   "execution_count": null,
   "metadata": {},
   "outputs": [],
   "source": [
    "plt.imshow((train_B[5]*std_B+mean_B).astype(np.int32))"
   ]
  },
  {
   "cell_type": "code",
   "execution_count": null,
   "metadata": {},
   "outputs": [],
   "source": []
  },
  {
   "cell_type": "code",
   "execution_count": null,
   "metadata": {},
   "outputs": [],
   "source": []
  }
 ],
 "metadata": {
  "kernelspec": {
   "display_name": "Python 3",
   "language": "python",
   "name": "python3"
  },
  "language_info": {
   "codemirror_mode": {
    "name": "ipython",
    "version": 3
   },
   "file_extension": ".py",
   "mimetype": "text/x-python",
   "name": "python",
   "nbconvert_exporter": "python",
   "pygments_lexer": "ipython3",
   "version": "3.6.5"
  }
 },
 "nbformat": 4,
 "nbformat_minor": 2
}
